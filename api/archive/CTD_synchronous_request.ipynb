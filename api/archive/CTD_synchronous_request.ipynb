{
 "cells": [
  {
   "cell_type": "markdown",
   "metadata": {
    "colab_type": "text",
    "id": "a3OPyXAtQPui"
   },
   "source": [
    "## Request last 15-min of data from the Seafloor CTD in Real-Time (ASHES at Axial Seamount; MJ03B)\n",
    "*Developed by Friedrich Knuth, Rutgers University, May 7, 2018*\n",
    "\n",
    "*Modified by Lori Garzio, Rutgers University, July 11, 2018*\n",
    "\n",
    "*Adapted by Bill Chadwick, August 14 2018*\n"
   ]
  },
  {
   "cell_type": "code",
   "execution_count": 1,
   "metadata": {
    "colab": {
     "autoexec": {
      "startup": false,
      "wait_interval": 0
     }
    },
    "colab_type": "code",
    "id": "jJ8DXqixQPuj"
   },
   "outputs": [],
   "source": [
    "username = 'OOIAPI-8PGYR9GA7YHVXX'\n",
    "token = '0MT4ME7UEL5Y8L'"
   ]
  },
  {
   "cell_type": "code",
   "execution_count": 2,
   "metadata": {
    "colab": {
     "autoexec": {
      "startup": false,
      "wait_interval": 0
     },
     "base_uri": "https://localhost:8080/",
     "height": 107
    },
    "colab_type": "code",
    "executionInfo": {
     "elapsed": 2399,
     "status": "ok",
     "timestamp": 1528252039678,
     "user": {
      "displayName": "Sage Lichtenwalner",
      "photoUrl": "https://lh3.googleusercontent.com/a/default-user=s128",
      "userId": "107661401208389246829"
     },
     "user_tz": 240
    },
    "id": "4c51q03dQPun",
    "outputId": "e0e630f8-381a-488e-a552-ba43526c6bc2"
   },
   "outputs": [],
   "source": [
    "import datetime\n",
    "import requests\n",
    "import matplotlib.pyplot as plt\n",
    "import matplotlib.gridspec as gridspec\n",
    "import netCDF4 as nc\n",
    "from IPython import display"
   ]
  },
  {
   "cell_type": "markdown",
   "metadata": {
    "colab_type": "text",
    "id": "-7k7-ki4QPuq"
   },
   "source": [
    "In this example we will build real-time requests for data from the Cabled Axial Seamount (RS03ASHS) - ASHES vent field (MJ03B) - Seafloor CTD (10-CTDPFB304) sensor. The ingredients being used to build the data_request_url can be found here: http://ooi.visualocean.net/instruments/view/RS03ASHS-MJ03B-10-CTDPFB304. To build an M2M request, you need the Reference Designator, Delivery Method and Data Stream Name. Note that streams containing science data products for a given instrument are designated as Science in the Type column."
   ]
  },
  {
   "cell_type": "code",
   "execution_count": 3,
   "metadata": {
    "colab": {
     "autoexec": {
      "startup": false,
      "wait_interval": 0
     }
    },
    "colab_type": "code",
    "id": "o5TXx6qxQPur"
   },
   "outputs": [],
   "source": [
    "# Instrument Information\n",
    "subsite = 'RS03ASHS'\n",
    "node = 'MJ03B'\n",
    "sensor = '10-CTDPFB304'\n",
    "method = 'streamed'\n",
    "stream = 'ctdpf_optode_sample'"
   ]
  },
  {
   "cell_type": "markdown",
   "metadata": {
    "colab_type": "text",
    "id": "7ek3km6VQPut"
   },
   "source": [
    "The code will start by requesting the last 15 minutes of data and then make a new request every 15 minutes by replacing the request url start time with the time stamp of the last data point received. \n",
    "\n",
    "No end time is specified, so everything available up until present will be returned, and the limit is set to 1000 data points for any given request. The CTD samples at 1 Hz, so 15 minutes of data would be 900 points.  Max limit is 20,000 points for a synchronous request.\n",
    "\n",
    "The original script was set up to get data every 10 seconds and plot it as follows:\n",
    "\n",
    "![RS03AXPS-SF03A-2A-CTDPFA302](https://github.com/ooi-data-review/ooi_datateam_notebooks/raw/master/images/realtime_pseudo_code.png)"
   ]
  },
  {
   "cell_type": "code",
   "execution_count": 7,
   "metadata": {
    "colab": {
     "autoexec": {
      "startup": false,
      "wait_interval": 0
     }
    },
    "colab_type": "code",
    "id": "3sT4m6RJQPuu"
   },
   "outputs": [
    {
     "data": {
      "text/plain": [
       "'https://ooinet.oceanobservatories.org/api/m2m/12576/sensor/inv//RS03ASHS/MJ03B/10-CTDPFB304/streamed/ctdpf_optode_sample'"
      ]
     },
     "execution_count": 7,
     "metadata": {},
     "output_type": "execute_result"
    }
   ],
   "source": [
    "base_url = 'https://ooinet.oceanobservatories.org/api/m2m/12576/sensor/inv/'\n",
    "\n",
    "# get the time stamp of the last 10 seconds of data\n",
    "#beginDT = (datetime.datetime.utcnow() - datetime.timedelta(seconds=10)).strftime(\"%Y-%m-%dT%H:%M:%S.000Z\")\n",
    "\n",
    "# get the time stamp of the last 15 minutes of data\n",
    "beginDT = (datetime.datetime.utcnow() - datetime.timedelta(minutes=15)).strftime(\"%Y-%m-%dT%H:%M:%S.000Z\")\n",
    "\n",
    "# build the url and request parameters\n",
    "data_request_url ='/'.join((base_url,subsite,node,sensor,method,stream))\n",
    "params = {\n",
    "    'beginDT':beginDT,\n",
    "    'limit':1000,   \n",
    "}\n",
    "data_request_url"
   ]
  },
  {
   "cell_type": "code",
   "execution_count": 8,
   "metadata": {},
   "outputs": [
    {
     "data": {
      "text/plain": [
       "{'conductivity': 1487385,\n",
       " 'ctd_tc_oxygen': -1009.9999,\n",
       " 'ctd_tc_oxygen_qc_executed': 1,\n",
       " 'ctd_tc_oxygen_qc_results': 0,\n",
       " 'density': 1034.7937662939119,\n",
       " 'density_qc_executed': 1,\n",
       " 'density_qc_results': 1,\n",
       " 'dissolved_oxygen': -816.4444340598346,\n",
       " 'dissolved_oxygen_qc_executed': 1,\n",
       " 'dissolved_oxygen_qc_results': 0,\n",
       " 'driver_timestamp': 3743257680.579859,\n",
       " 'ingestion_timestamp': 3743257681.586,\n",
       " 'internal_timestamp': 0.0,\n",
       " 'oxy_calphase': -9999999,\n",
       " 'oxy_temp': -9999999,\n",
       " 'oxygen': -9999999,\n",
       " 'pk': {'deployment': 4,\n",
       "  'method': 'streamed',\n",
       "  'node': 'MJ03B',\n",
       "  'sensor': '10-CTDPFB304',\n",
       "  'stream': 'ctdpf_optode_sample',\n",
       "  'subsite': 'RS03ASHS',\n",
       "  'time': 3743257680.514834},\n",
       " 'port_timestamp': 3743257680.514834,\n",
       " 'practical_salinity': 34.53277156532072,\n",
       " 'practical_salinity_qc_executed': 1,\n",
       " 'practical_salinity_qc_results': 1,\n",
       " 'preferred_timestamp': 'port_timestamp',\n",
       " 'pressure': 781867,\n",
       " 'pressure_temp': 12698,\n",
       " 'seawater_conductivity': 3.1390100415063182,\n",
       " 'seawater_conductivity_qc_executed': 1,\n",
       " 'seawater_conductivity_qc_results': 1,\n",
       " 'seawater_pressure': 1557.9644775021452,\n",
       " 'seawater_pressure_qc_executed': 1,\n",
       " 'seawater_pressure_qc_results': 1,\n",
       " 'seawater_temperature': 2.3495574862723743,\n",
       " 'seawater_temperature_qc_executed': 1,\n",
       " 'seawater_temperature_qc_results': 1,\n",
       " 'temperature': 533551,\n",
       " 'time': 3743257680.514834}"
      ]
     },
     "execution_count": 8,
     "metadata": {},
     "output_type": "execute_result"
    }
   ],
   "source": [
    "# set up your variable lists to extract from the json response\n",
    "time_stamp = []\n",
    "pressure = []\n",
    "temperature = []\n",
    "salinity = []\n",
    "oxygen = []\n",
    "conductivity = []\n",
    "\n",
    "# establish a session\n",
    "session = requests.session()\n",
    "    \n",
    "# send request for data\n",
    "response = session.get(data_request_url, params=params, auth=(username, token))\n",
    "data = response.json()\n",
    "data[0]"
   ]
  },
  {
   "cell_type": "code",
   "execution_count": 9,
   "metadata": {},
   "outputs": [
    {
     "name": "stdout",
     "output_type": "stream",
     "text": [
      "973\n"
     ]
    }
   ],
   "source": [
    "print( len(data) )"
   ]
  },
  {
   "cell_type": "markdown",
   "metadata": {},
   "source": [
    "Note to Brian: here are the variables I want exported to a file:\n",
    "\n",
    "{'density': 1034.7937662939119,\n",
    "\n",
    " 'practical_salinity': 34.53277156532072,\n",
    " \n",
    " 'seawater_temperature': 2.3495574862723743,\n",
    " \n",
    " 'time': 3743257680.514834}\n",
    " \n",
    "(date/time in some usable form)"
   ]
  },
  {
   "cell_type": "markdown",
   "metadata": {},
   "source": [
    "Here are some items from Sage's script that might be useful:"
   ]
  },
  {
   "cell_type": "markdown",
   "metadata": {},
   "source": [
    "Because we didn't didn't specify any parameters, all parameters for this data stream are included, as well as 2 QC variables for each. As we can see, we have quite few variables here, but we can't easily do anything with this, so let's process the result into something we can use.\n",
    "\n",
    "Because times are returned as seconds since 1/1/1900, we will need a routine to convert them to a native Python datetime format.\n",
    "The datetime.utcfromtimestamp() function expects seconds since 1/1/1970, so we also need to adjust for that."
   ]
  },
  {
   "cell_type": "code",
   "execution_count": null,
   "metadata": {},
   "outputs": [],
   "source": [
    "# Time Processing Routine\n",
    "ntp_epoch = datetime.datetime(1900, 1, 1)\n",
    "unix_epoch = datetime.datetime(1970, 1, 1)\n",
    "ntp_delta = (unix_epoch - ntp_epoch).total_seconds()\n",
    "\n",
    "def ntp_seconds_to_datetime(ntp_seconds):\n",
    "    return datetime.datetime.utcfromtimestamp(ntp_seconds - ntp_delta).replace(microsecond=0)"
   ]
  },
  {
   "cell_type": "markdown",
   "metadata": {},
   "source": [
    "Next we will iterate over the entire data array and save just the parameters we want into new variables."
   ]
  },
  {
   "cell_type": "code",
   "execution_count": null,
   "metadata": {},
   "outputs": [],
   "source": [
    "# Process the data\n",
    "time = []\n",
    "seawater_temp = []\n",
    "salinity = []\n",
    "density = []\n",
    "for i in range(len(data)):\n",
    "  time.append(ntp_seconds_to_datetime(data[i]['time']))\n",
    "  seawater_temp.append(data[i]['seawater_temperature'])\n",
    "  salinity.append(data[i]['practical_salinity'])\n",
    "  density.append(data[i]['density'])"
   ]
  },
  {
   "cell_type": "markdown",
   "metadata": {},
   "source": [
    "Next would be outputting the data to a file.  The code below is for plotting data from a synchonous request"
   ]
  },
  {
   "cell_type": "code",
   "execution_count": 7,
   "metadata": {
    "colab": {
     "autoexec": {
      "startup": false,
      "wait_interval": 0
     },
     "base_uri": "https://localhost:8080/",
     "height": 725
    },
    "colab_type": "code",
    "executionInfo": {
     "elapsed": 157,
     "status": "ok",
     "timestamp": 1528252474572,
     "user": {
      "displayName": "Sage Lichtenwalner",
      "photoUrl": "https://lh3.googleusercontent.com/a/default-user=s128",
      "userId": "107661401208389246829"
     },
     "user_tz": 240
    },
    "id": "BNebILSCQPuw",
    "outputId": "66f704e7-cd7c-4a09-9d2e-2bf792684c68"
   },
   "outputs": [
    {
     "data": {
      "image/png": "[encoded data removed]",
      "text/plain": [
       "<Figure size 720x360 with 2 Axes>"
      ]
     },
     "metadata": {},
     "output_type": "display_data"
    }
   ],
   "source": [
    "# set up your variable lists to extract from the json response\n",
    "time_stamp = []\n",
    "pressure = []\n",
    "temperature = []\n",
    "salinity = []\n",
    "oxygen = []\n",
    "conductivity = []\n",
    "\n",
    "# establish a session\n",
    "session = requests.session()\n",
    "\n",
    "# enter request and plotting loop (100 * 10 sec)\n",
    "# while True: # use for endless loop\n",
    "for i in range(100):\n",
    "    \n",
    "    # send request for data\n",
    "    response = session.get(data_request_url, params=params, auth=(username, token))\n",
    "    data = response.json()\n",
    "    \n",
    "    # check for failed data request (200 means OK)\n",
    "    if response.status_code != 200:\n",
    "        print('Data request failed')\n",
    "        print(data['message']['status'])\n",
    "        break\n",
    "    \n",
    "    # get last time stamp in response\n",
    "    last_time = nc.num2date(data[-1]['time'],'seconds since 1900-01-01').strftime(\"%Y-%m-%dT%H:%M:%S.000Z\")\n",
    "    \n",
    "    # check if new data has been received\n",
    "    if params['beginDT'] == last_time:\n",
    "        continue\n",
    "        \n",
    "    # if new data is received, extract and append values to list, then plot\n",
    "    else:\n",
    "        # extract variables\n",
    "        for i in range(len(data)):\n",
    "            time_stamp.append(nc.num2date(data[i]['time'],'seconds since 1900-01-01').replace(microsecond=0))\n",
    "            pressure.append(data[i]['seawater_pressure'])\n",
    "            temperature.append(data[i]['seawater_temperature'])\n",
    "            oxygen.append(data[i]['ctd_tc_oxygen'])\n",
    "            salinity.append(data[i]['practical_salinity'])\n",
    "            conductivity.append(data[i]['seawater_conductivity'])\n",
    "\n",
    "        # remove colorbars for continuous replotting (there might be a better way to do this)\n",
    "#        try:\n",
    "#             cb1.remove()\n",
    "#             cb2.remove()\n",
    "#             cb3.remove()\n",
    "#             cb4.remove()\n",
    "#         except:\n",
    "#             pass\n",
    "\n",
    "        # set x axis limit to extent of data\n",
    "        ax1.set_xlim(time_stamp[0],time_stamp[-1])\n",
    "        ax2.set_xlim(time_stamp[0],time_stamp[-1])\n",
    "#        ax3.set_xlim(time_stamp[0],time_stamp[-1])\n",
    "#        ax4.set_xlim(time_stamp[0],time_stamp[-1])\n",
    "#        ax1.set_ylim(min(temperature),max(temperature))\n",
    "        fig.autofmt_xdate()\n",
    "\n",
    "        # choose the colormaps. more colormaps at https://matplotlib.org/examples/color/colormaps_reference.html\n",
    "#         cmap1 = plt.get_cmap(\"Reds\")\n",
    "#         cmap2 = plt.get_cmap(\"winter_r\")\n",
    "#         # cmap3 = plt.get_cmap(\"copper\")\n",
    "#         cmap4 = plt.get_cmap(\"copper\")\n",
    "\n",
    "        # plot the data\n",
    "        ax1.plot(time_stamp, temperature, 'b.')\n",
    "        ax2.plot(time_stamp, salinity, 'b.')\n",
    "#        ax3.plot(time_stamp, oxygen, 'b.')\n",
    "#        ax4.plot(time_stamp, conductivity, 'b.')\n",
    "\n",
    "        # assign a colorbar \n",
    "#         cb1 = plt.colorbar(t,ax=ax1)\n",
    "#         cb2 = plt.colorbar(o,ax=ax2)\n",
    "#         cb3 = plt.colorbar(s,ax=ax3)\n",
    "#         cb4 = plt.colorbar(c,ax=ax4)\n",
    "\n",
    "        # label colorbars\n",
    "#         cb1.set_label('$^\\circ$C')\n",
    "#         cb2.set_label('umol/Kg')\n",
    "#         cb3.set_label('1')\n",
    "#         cb4.set_label('S/m')\n",
    "\n",
    "        # label subplots\n",
    "        ax1.set_title(\"Temperature\")\n",
    "        ax2.set_title(\"Salinity\")\n",
    "#        ax3.set_title(\"Oxygen\")\n",
    "#        ax4.set_title(\"Conductivity\")\n",
    "\n",
    "        ax1.set_ylabel('Temperature (C)')\n",
    "        ax2.set_ylabel('Salinity')\n",
    "#        ax3.set_ylabel('Oxygen')\n",
    "#        ax4.set_ylabel('Conductivity')\n",
    "\n",
    "        ax1.set_xlabel('time')\n",
    "        ax2.set_xlabel('time')\n",
    "\n",
    "        # tighten layout and display plot\n",
    "        spec.tight_layout(fig)\n",
    "\n",
    "        display.clear_output(wait=True)\n",
    "        display.display(plt.gcf())\n",
    "    \n",
    "    \n",
    "    # reset beginDT for next request    \n",
    "    params['beginDT'] = last_time\n",
    "    \n",
    "plt.close()"
   ]
  },
  {
   "cell_type": "markdown",
   "metadata": {
    "colab_type": "text",
    "id": "dZ-lAfzpHqA6"
   },
   "source": [
    "The above loop is set to continuously run until the limit is reached.  You can set the limit to a higher number to run this script as long as desired."
   ]
  },
  {
   "cell_type": "markdown",
   "metadata": {},
   "source": [
    "## Loading xarray\n",
    "Before we get started, we first need to install and load the xarray library into Google Colab."
   ]
  },
  {
   "cell_type": "code",
   "execution_count": null,
   "metadata": {},
   "outputs": [],
   "source": [
    "import xarray as xr\n",
    "import requests\n",
    "import os\n",
    "import re\n",
    "import pandas as pd"
   ]
  },
  {
   "cell_type": "code",
   "execution_count": null,
   "metadata": {},
   "outputs": [],
   "source": []
  },
  {
   "cell_type": "code",
   "execution_count": null,
   "metadata": {},
   "outputs": [],
   "source": []
  },
  {
   "cell_type": "code",
   "execution_count": null,
   "metadata": {},
   "outputs": [],
   "source": []
  },
  {
   "cell_type": "markdown",
   "metadata": {},
   "source": [
    "## Creating and downloading a CSV file\n",
    "Above we converted our xarray Dataset into a pandas Dataframe.  Xarray is great for loading and exporting netcdf data, while Pandas is great for doing the same with CSV.\n",
    "\n",
    "Now that we have our data in a pandas Dataframe, we can easily use the `.to_csv()` method to create a CSV file.  It shows up in menu at left."
   ]
  },
  {
   "cell_type": "code",
   "execution_count": null,
   "metadata": {},
   "outputs": [],
   "source": [
    "df.to_csv('Chadwick_test1_output.csv') # Create the CSV file"
   ]
  }
 ],
 "metadata": {
  "colab": {
   "default_view": {},
   "name": "Realtime Plotting.ipynb",
   "provenance": [],
   "version": "0.3.2",
   "views": {}
  },
  "kernelspec": {
   "display_name": "Python 3",
   "language": "python",
   "name": "python3"
  },
  "language_info": {
   "codemirror_mode": {
    "name": "ipython",
    "version": 3
   },
   "file_extension": ".py",
   "mimetype": "text/x-python",
   "name": "python",
   "nbconvert_exporter": "python",
   "pygments_lexer": "ipython3",
   "version": "3.6.4"
  }
 },
 "nbformat": 4,
 "nbformat_minor": 2
}
