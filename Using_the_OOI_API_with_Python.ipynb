{
 "cells": [
  {
   "cell_type": "markdown",
   "metadata": {
    "colab_type": "text",
    "id": "L35rDym1v4Dp",
    "slideshow": {
     "slide_type": "slide"
    }
   },
   "source": [
    "# Introduction to the OOI M2M Interface (aka the API)\n",
    "*Written by Sage Lichtenwalner, Rutgers University, May 21, 2018*\n",
    "\n",
    "*Revised by Lori Garzio (to work with Pangeo), Rutgers University, July 10, 2018*\n",
    "\n",
    "In this example, we will demonstrate how to access and use the OOI M2M interface to retrieve information about the instruments in the OOI database as well as how to retrieve data from those instruments.\n",
    "\n",
    "For most of this example, I'm going to use my favorite instrument, the [30m CTD on Global Papa Flanking Mooring B](http://ooi.visualocean.net/instruments/view/GP03FLMB-RIM01-02-CTDMOG060)."
   ]
  },
  {
   "cell_type": "markdown",
   "metadata": {
    "colab_type": "text",
    "id": "z26K0nG3a0FJ",
    "slideshow": {
     "slide_type": "slide"
    }
   },
   "source": [
    "# Getting Started with the API\n",
    "\n",
    "In order to use the API, you will need to have an OOI Net account, that is, an account on the [OOI Data Portal](https://ooinet.oceanobservatories.org).  Once you have an account, you will need your API Username and Token.  To get your API information, follow the steps below, or check out this [video](https://www.youtube.com/watch?time_continue=150&v=9YSIrDu4l24).\n",
    "\n",
    "* If needed, create a new account on ooinet.oceanobservatories.org, using either your email address or use the CILogon button with your academic or Google account.\n",
    "* Log in\n",
    "* Click on your email address on the right side of the navigation bar to open up the pull-down menu.\n",
    "* Click on the \"User Profile\" in the drop down.\n",
    "* Copy and save the following data from your user profile: API Username and API Token. The API Username is similar to “OOIAPI-QTULEV4STGAS35”. The API Token is similar to “YYP2X2W3SOW”.\n",
    "\n",
    "For this example, we will include the API login information as variables so we can use them later.\n"
   ]
  },
  {
   "cell_type": "code",
   "execution_count": 1,
   "metadata": {
    "colab": {
     "autoexec": {
      "startup": false,
      "wait_interval": 0
     }
    },
    "colab_type": "code",
    "id": "LzHmTswaa3wI",
    "slideshow": {
     "slide_type": "slide"
    }
   },
   "outputs": [],
   "source": [
    "USERNAME = 'YOUR API USERNAME'\n",
    "TOKEN =  'YOUR API TOKEN'"
   ]
  },
  {
   "cell_type": "markdown",
   "metadata": {
    "colab_type": "text",
    "id": "x9FzjFCfKZCF",
    "slideshow": {
     "slide_type": "slide"
    }
   },
   "source": [
    "We will also add a few Python libraries that we will need in our environment"
   ]
  },
  {
   "cell_type": "code",
   "execution_count": 2,
   "metadata": {
    "colab": {
     "autoexec": {
      "startup": false,
      "wait_interval": 0
     }
    },
    "colab_type": "code",
    "id": "xnc8KZTuvCfZ"
   },
   "outputs": [],
   "source": [
    "# First, we need to add some more Python libraries\n",
    "import requests\n",
    "import datetime"
   ]
  },
  {
   "cell_type": "markdown",
   "metadata": {
    "colab_type": "text",
    "id": "oRHcknZLIoh7",
    "slideshow": {
     "slide_type": "slide"
    }
   },
   "source": [
    "To access the OOI API, we will use the [python requests library](http://docs.python-requests.org/en/master/), which is very easy to use.  \n",
    "\n",
    "> `r = requests.get(url, params=parameters, auth=('user', 'pass'))`\n",
    "\n",
    "All we have to do is specify the URL we want to access, along with our login information.  In some cases, we will also include an additional set of optional parameters using the \"params\" option.  These \"GET\" parameters are typically found at the end of a URL following the format:\n",
    "> `http://example.com/page.htm?var1=a&var2=b`\n",
    "\n",
    "Thanks to the requests library, we don't have to worry about getting all the question marks and ampersands in the right places, we can just specify an array of options.\n",
    "\n",
    "\n",
    "To see how this really works in practice, let's dive into some examples.\n"
   ]
  },
  {
   "cell_type": "markdown",
   "metadata": {
    "colab_type": "text",
    "id": "095sM0VDMTAp"
   },
   "source": [
    "## Sensor Information\n",
    "\n",
    "Perhaps the most useful API is the **Sensor Inventory**.  This endpoint essentially works like a tree, allowing you to navigate through the OOI instrument hierarchy.  Here is the starting point."
   ]
  },
  {
   "cell_type": "code",
   "execution_count": 3,
   "metadata": {
    "colab": {
     "autoexec": {
      "startup": false,
      "wait_interval": 0
     }
    },
    "colab_type": "code",
    "id": "SkehtIOFtEiq"
   },
   "outputs": [],
   "source": [
    "SENSOR_BASE_URL = 'https://ooinet.oceanobservatories.org/api/m2m/12576/sensor/inv/'"
   ]
  },
  {
   "cell_type": "markdown",
   "metadata": {
    "colab_type": "text",
    "id": "OUNC96vQNT_9",
    "slideshow": {
     "slide_type": "slide"
    }
   },
   "source": [
    "Let's go ahead and take a look at what we get back from this URL.  Thanks to the requests library, we have a number of different ways to deal with the output."
   ]
  },
  {
   "cell_type": "code",
   "execution_count": 4,
   "metadata": {
    "colab": {
     "autoexec": {
      "startup": false,
      "wait_interval": 0
     },
     "base_uri": "https://localhost:8080/",
     "height": 132
    },
    "colab_type": "code",
    "executionInfo": {
     "elapsed": 432,
     "status": "ok",
     "timestamp": 1528313022644,
     "user": {
      "displayName": "Sage Lichtenwalner",
      "photoUrl": "https://lh3.googleusercontent.com/a/default-user=s128",
      "userId": "107661401208389246829"
     },
     "user_tz": 240
    },
    "id": "M7ywihWdEQlS",
    "outputId": "6eb2295e-cf63-404f-94b0-f9145a8fd97c"
   },
   "outputs": [
    {
     "name": "stdout",
     "output_type": "stream",
     "text": [
      "200\n",
      "{'Server': 'nginx', 'Date': 'Tue, 10 Jul 2018 14:04:44 GMT', 'Content-Type': 'text/html; charset=utf-8', 'Transfer-Encoding': 'chunked', 'Strict-Transport-Security': 'max-age=63072000; includeSubdomains; ', 'X-Frame-Options': 'SAMEORIGIN', 'X-XSS-Protection': '1; mode=block', 'Content-Encoding': 'gzip'}\n",
      "utf-8\n",
      "[ \"CE01ISSM\", \"CE01ISSP\", \"CE02SHBP\", \"CE02SHSM\", \"CE02SHSP\", \"CE04OSBP\", \"CE04OSPD\", \"CE04OSPI\", \"CE04OSPS\", \"CE04OSSM\", \"CE05MOAS\", \"CE06ISSM\", \"CE06ISSP\", \"CE07SHSM\", \"CE07SHSP\", \"CE09OSPM\", \"CE09OSSM\", \"CP01CNPM\", \"CP01CNSM\", \"CP01CNSP\", \"CP02PMCI\", \"CP02PMCO\", \"CP02PMUI\", \"CP02PMUO\", \"CP03ISPM\", \"CP03ISSM\", \"CP03ISSP\", \"CP04OSPM\", \"CP04OSSM\", \"CP05MOAS\", \"GA01SUMO\", \"GA02HYPM\", \"GA03FLMA\", \"GA03FLMB\", \"GA05MOAS\", \"GI01SUMO\", \"GI02HYPM\", \"GI03FLMA\", \"GI03FLMB\", \"GI05MOAS\", \"GP02HYPM\", \"GP03FLMA\", \"GP03FLMB\", \"GP05MOAS\", \"GS01SUMO\", \"GS02HYPM\", \"GS03FLMA\", \"GS03FLMB\", \"GS05MOAS\", \"RS01OSBP\", \"RS01SBPS\", \"RS01SHBP\", \"RS01SHDR\", \"RS01SLBS\", \"RS01SUM1\", \"RS01SUM2\", \"RS03ASHS\", \"RS03AXBS\", \"RS03AXPD\", \"RS03AXPS\", \"RS03AXSM\", \"RS03CCAL\", \"RS03ECAL\", \"RS03INT1\", \"RS03INT2\", \"SSRSPACC\" ]\n",
      "['CE01ISSM', 'CE01ISSP', 'CE02SHBP', 'CE02SHSM', 'CE02SHSP', 'CE04OSBP', 'CE04OSPD', 'CE04OSPI', 'CE04OSPS', 'CE04OSSM', 'CE05MOAS', 'CE06ISSM', 'CE06ISSP', 'CE07SHSM', 'CE07SHSP', 'CE09OSPM', 'CE09OSSM', 'CP01CNPM', 'CP01CNSM', 'CP01CNSP', 'CP02PMCI', 'CP02PMCO', 'CP02PMUI', 'CP02PMUO', 'CP03ISPM', 'CP03ISSM', 'CP03ISSP', 'CP04OSPM', 'CP04OSSM', 'CP05MOAS', 'GA01SUMO', 'GA02HYPM', 'GA03FLMA', 'GA03FLMB', 'GA05MOAS', 'GI01SUMO', 'GI02HYPM', 'GI03FLMA', 'GI03FLMB', 'GI05MOAS', 'GP02HYPM', 'GP03FLMA', 'GP03FLMB', 'GP05MOAS', 'GS01SUMO', 'GS02HYPM', 'GS03FLMA', 'GS03FLMB', 'GS05MOAS', 'RS01OSBP', 'RS01SBPS', 'RS01SHBP', 'RS01SHDR', 'RS01SLBS', 'RS01SUM1', 'RS01SUM2', 'RS03ASHS', 'RS03AXBS', 'RS03AXPD', 'RS03AXPS', 'RS03AXSM', 'RS03CCAL', 'RS03ECAL', 'RS03INT1', 'RS03INT2', 'SSRSPACC']\n"
     ]
    }
   ],
   "source": [
    "r = requests.get(SENSOR_BASE_URL, auth=(USERNAME, TOKEN))\n",
    "print( r.status_code )\n",
    "print( r.headers )\n",
    "print( r.encoding )\n",
    "print( r.text )\n",
    "print( r.json() )"
   ]
  },
  {
   "cell_type": "markdown",
   "metadata": {
    "colab_type": "text",
    "id": "9VfXeshENicN",
    "slideshow": {
     "slide_type": "slide"
    }
   },
   "source": [
    "As we can see, the returned status code is 200, which means our request was OK and and information was returned.  \n",
    "\n",
    "The headers and encoding tell us a little bit more about the format of the information sent back.  Because this is a simple text response, there's nothing profound here, but you might find these handy in working with other APIs.\n",
    "\n",
    "We can retrieve the actual data from the response using **r.text**. But because this dataset is actually in JSON format, we can use the **r.json()** method to automatically turn the returned data into a structured object we can use in Python.  \n",
    "\n",
    "For example, let's save the output as a variable and then loop through it an print out each entry."
   ]
  },
  {
   "cell_type": "code",
   "execution_count": 5,
   "metadata": {
    "colab": {
     "autoexec": {
      "startup": false,
      "wait_interval": 0
     },
     "base_uri": "https://localhost:8080/",
     "height": 1205
    },
    "colab_type": "code",
    "executionInfo": {
     "elapsed": 505,
     "status": "ok",
     "timestamp": 1528313024305,
     "user": {
      "displayName": "Sage Lichtenwalner",
      "photoUrl": "https://lh3.googleusercontent.com/a/default-user=s128",
      "userId": "107661401208389246829"
     },
     "user_tz": 240
    },
    "id": "mMLsCWUuOR9m",
    "outputId": "396c30f7-289f-4d60-98e9-e8d99c0aa162",
    "slideshow": {
     "slide_type": "slide"
    }
   },
   "outputs": [
    {
     "name": "stdout",
     "output_type": "stream",
     "text": [
      "CE01ISSM\n",
      "CE01ISSP\n",
      "CE02SHBP\n",
      "CE02SHSM\n",
      "CE02SHSP\n",
      "CE04OSBP\n",
      "CE04OSPD\n",
      "CE04OSPI\n",
      "CE04OSPS\n",
      "CE04OSSM\n",
      "CE05MOAS\n",
      "CE06ISSM\n",
      "CE06ISSP\n",
      "CE07SHSM\n",
      "CE07SHSP\n",
      "CE09OSPM\n",
      "CE09OSSM\n",
      "CP01CNPM\n",
      "CP01CNSM\n",
      "CP01CNSP\n",
      "CP02PMCI\n",
      "CP02PMCO\n",
      "CP02PMUI\n",
      "CP02PMUO\n",
      "CP03ISPM\n",
      "CP03ISSM\n",
      "CP03ISSP\n",
      "CP04OSPM\n",
      "CP04OSSM\n",
      "CP05MOAS\n",
      "GA01SUMO\n",
      "GA02HYPM\n",
      "GA03FLMA\n",
      "GA03FLMB\n",
      "GA05MOAS\n",
      "GI01SUMO\n",
      "GI02HYPM\n",
      "GI03FLMA\n",
      "GI03FLMB\n",
      "GI05MOAS\n",
      "GP02HYPM\n",
      "GP03FLMA\n",
      "GP03FLMB\n",
      "GP05MOAS\n",
      "GS01SUMO\n",
      "GS02HYPM\n",
      "GS03FLMA\n",
      "GS03FLMB\n",
      "GS05MOAS\n",
      "RS01OSBP\n",
      "RS01SBPS\n",
      "RS01SHBP\n",
      "RS01SHDR\n",
      "RS01SLBS\n",
      "RS01SUM1\n",
      "RS01SUM2\n",
      "RS03ASHS\n",
      "RS03AXBS\n",
      "RS03AXPD\n",
      "RS03AXPS\n",
      "RS03AXSM\n",
      "RS03CCAL\n",
      "RS03ECAL\n",
      "RS03INT1\n",
      "RS03INT2\n",
      "SSRSPACC\n"
     ]
    }
   ],
   "source": [
    "sites = r.json()\n",
    "for site in sites:\n",
    "  print( site )"
   ]
  },
  {
   "cell_type": "markdown",
   "metadata": {
    "colab_type": "text",
    "id": "lcKK3yUTOaoY",
    "slideshow": {
     "slide_type": "slide"
    }
   },
   "source": [
    "Now this may seem like gibberish, but it turns out that this is a list of all of the **Sites** that are in the OOI system.  A [similar list](http://oceanobservatories.org/site-list/) can be found on the OOI website.\n",
    "\n",
    "From this point on, we can simply add one of the returned items to the previous URL in order to drill down into the sensor inventory.  For this example, let's investigate [**GP03FLMB-RIM01-02-CTDMOG060**](http://ooi.visualocean.net/instruments/view/GP03FLMB-RIM01-02-CTDMOG060).\n",
    "\n",
    "To make this easy, let's setup a quick function to make the request and reformat the results."
   ]
  },
  {
   "cell_type": "code",
   "execution_count": 6,
   "metadata": {
    "colab": {
     "autoexec": {
      "startup": false,
      "wait_interval": 0
     }
    },
    "colab_type": "code",
    "id": "hevun1CVtJvw",
    "slideshow": {
     "slide_type": "slide"
    }
   },
   "outputs": [],
   "source": [
    "# A quick function to make an API request and print the results\n",
    "def get_and_print_api(url):\n",
    "  r = requests.get(url, auth=(USERNAME, TOKEN))\n",
    "  data = r.json()\n",
    "  for d in data:\n",
    "    print( d )"
   ]
  },
  {
   "cell_type": "markdown",
   "metadata": {
    "colab_type": "text",
    "id": "uicCkLS4p3Ap",
    "slideshow": {
     "slide_type": "slide"
    }
   },
   "source": [
    "### List of Nodes for a Site"
   ]
  },
  {
   "cell_type": "code",
   "execution_count": 7,
   "metadata": {
    "colab": {
     "autoexec": {
      "startup": false,
      "wait_interval": 0
     },
     "base_uri": "https://localhost:8080/",
     "height": 53
    },
    "colab_type": "code",
    "executionInfo": {
     "elapsed": 289,
     "status": "ok",
     "timestamp": 1528313027277,
     "user": {
      "displayName": "Sage Lichtenwalner",
      "photoUrl": "https://lh3.googleusercontent.com/a/default-user=s128",
      "userId": "107661401208389246829"
     },
     "user_tz": 240
    },
    "id": "zeihXVohFLFw",
    "outputId": "267c6a8e-b86b-411a-a7c7-c1ab59707429"
   },
   "outputs": [
    {
     "name": "stdout",
     "output_type": "stream",
     "text": [
      "RIM01\n",
      "RIS01\n"
     ]
    }
   ],
   "source": [
    "get_and_print_api(SENSOR_BASE_URL+'/GP03FLMB')"
   ]
  },
  {
   "cell_type": "markdown",
   "metadata": {
    "colab_type": "text",
    "id": "fTSN_oq0qC9J",
    "slideshow": {
     "slide_type": "slide"
    }
   },
   "source": [
    "### List of Sensors (Instruments) for a Node"
   ]
  },
  {
   "cell_type": "code",
   "execution_count": 8,
   "metadata": {
    "colab": {
     "autoexec": {
      "startup": false,
      "wait_interval": 0
     },
     "base_uri": "https://localhost:8080/",
     "height": 269
    },
    "colab_type": "code",
    "executionInfo": {
     "elapsed": 292,
     "status": "ok",
     "timestamp": 1528313028441,
     "user": {
      "displayName": "Sage Lichtenwalner",
      "photoUrl": "https://lh3.googleusercontent.com/a/default-user=s128",
      "userId": "107661401208389246829"
     },
     "user_tz": 240
    },
    "id": "ekuLLazlQaFS",
    "outputId": "3e035904-3595-4fc8-898c-9c643d708079"
   },
   "outputs": [
    {
     "name": "stdout",
     "output_type": "stream",
     "text": [
      "00-SIOENG000\n",
      "02-ADCPSL007\n",
      "02-CTDMOG060\n",
      "02-CTDMOG061\n",
      "02-CTDMOG062\n",
      "02-CTDMOG063\n",
      "02-CTDMOG064\n",
      "02-CTDMOG065\n",
      "02-CTDMOG066\n",
      "02-CTDMOG067\n",
      "02-CTDMOG068\n",
      "02-CTDMOH069\n",
      "02-CTDMOH070\n",
      "02-CTDMOH071\n"
     ]
    }
   ],
   "source": [
    "get_and_print_api(SENSOR_BASE_URL+'/GP03FLMB/RIM01')"
   ]
  },
  {
   "cell_type": "markdown",
   "metadata": {
    "colab_type": "text",
    "id": "ARErFmUjqMVE",
    "slideshow": {
     "slide_type": "slide"
    }
   },
   "source": [
    "### List of Methods for a Sensor"
   ]
  },
  {
   "cell_type": "code",
   "execution_count": 9,
   "metadata": {
    "colab": {
     "autoexec": {
      "startup": false,
      "wait_interval": 0
     },
     "base_uri": "https://localhost:8080/",
     "height": 107
    },
    "colab_type": "code",
    "executionInfo": {
     "elapsed": 284,
     "status": "ok",
     "timestamp": 1528313029537,
     "user": {
      "displayName": "Sage Lichtenwalner",
      "photoUrl": "https://lh3.googleusercontent.com/a/default-user=s128",
      "userId": "107661401208389246829"
     },
     "user_tz": 240
    },
    "id": "RIiNAaDBQcHe",
    "outputId": "b3d4ba0a-e6ad-470f-d17f-372b8d6064a8"
   },
   "outputs": [
    {
     "name": "stdout",
     "output_type": "stream",
     "text": [
      "bad_recovered_host\n",
      "bad_telemetered\n",
      "recovered_host\n",
      "recovered_inst\n",
      "telemetered\n"
     ]
    }
   ],
   "source": [
    "get_and_print_api(SENSOR_BASE_URL+'/GP03FLMB/RIM01/02-CTDMOG060')"
   ]
  },
  {
   "cell_type": "markdown",
   "metadata": {
    "colab_type": "text",
    "id": "yZulCxcJqPsw",
    "slideshow": {
     "slide_type": "slide"
    }
   },
   "source": [
    "### List of Data Streams for a Method"
   ]
  },
  {
   "cell_type": "code",
   "execution_count": 10,
   "metadata": {
    "colab": {
     "autoexec": {
      "startup": false,
      "wait_interval": 0
     },
     "base_uri": "https://localhost:8080/",
     "height": 53
    },
    "colab_type": "code",
    "executionInfo": {
     "elapsed": 282,
     "status": "ok",
     "timestamp": 1528313030679,
     "user": {
      "displayName": "Sage Lichtenwalner",
      "photoUrl": "https://lh3.googleusercontent.com/a/default-user=s128",
      "userId": "107661401208389246829"
     },
     "user_tz": 240
    },
    "id": "Fa8OJhpHQdTY",
    "outputId": "039c4c2c-4cde-427d-eeb0-a2409b574940"
   },
   "outputs": [
    {
     "name": "stdout",
     "output_type": "stream",
     "text": [
      "ctdmo_ghqr_sio_mule_instrument\n",
      "ctdmo_ghqr_sio_offset\n"
     ]
    }
   ],
   "source": [
    "get_and_print_api(SENSOR_BASE_URL+'/GP03FLMB/RIM01/02-CTDMOG060/telemetered')"
   ]
  },
  {
   "cell_type": "markdown",
   "metadata": {
    "colab_type": "text",
    "id": "6bhnZNp1FzHF",
    "slideshow": {
     "slide_type": "slide"
    }
   },
   "source": [
    "At this point, we have all the information we need to make a data request.  All we have to do is go down one additional level by adding the stream name to the request we made above.  **However, don't be tempted to do this.**  If you do, you will accidentally make an \"asynchronous\" request (aka a request for downloadable netcdf files) for all of the data in the system for this data stream (unless, of course, this is what you want to do).\n",
    "\n",
    "Instead, of doing that, let's dive into how to make more precise data requests."
   ]
  },
  {
   "cell_type": "markdown",
   "metadata": {
    "colab_type": "text",
    "id": "p4DgRD4rVT2r",
    "slideshow": {
     "slide_type": "slide"
    }
   },
   "source": [
    "# Synchronous Data Requests \n",
    "* Results returned as JSON"
   ]
  },
  {
   "cell_type": "markdown",
   "metadata": {
    "colab_type": "text",
    "id": "b2BA7yAnV6Zj",
    "slideshow": {
     "slide_type": "slide"
    }
   },
   "source": [
    "To make a synchronous data request, we basically construct a URL using all the pieces we discovered above, like the following:\n",
    "> /sensor/inv/{subsite}/{node}/{sensor}/{method}/{stream}\n",
    "\n",
    "In order to make the code clear, we're going to setup several variables and then use the **join()** function to concatenate all of the variables together with slashes.\n",
    "\n",
    "We are also going to use a **params** array to specify a start and ending date/time for our request, as well as a limit parameter to minimize the amount of data points we get back.\n",
    "\n",
    "Keep in mind that synchronous requests are **limited to 20,000 data points** within the time range you specify.  If the dataset you are requesting has more data points available, the data will be decimated (that is, roughly downsampled in a semi-random way).  To request all of the available data, you should make an asynchronous request (see below).  Alternatively, you could make a sequence of synchronous requests for a shorter time range, and then aggregate the results.  For a real-time plotting script, this actually makes more sense (but that's another example)."
   ]
  },
  {
   "cell_type": "code",
   "execution_count": 11,
   "metadata": {
    "colab": {
     "autoexec": {
      "startup": false,
      "wait_interval": 0
     }
    },
    "colab_type": "code",
    "id": "6Nil8v1TjqDL",
    "slideshow": {
     "slide_type": "slide"
    }
   },
   "outputs": [],
   "source": [
    "# Instrument Information\n",
    "site = 'GP03FLMB'\n",
    "node = 'RIM01'\n",
    "instrument = '02-CTDMOG060'\n",
    "method = 'telemetered'\n",
    "stream = 'ctdmo_ghqr_sio_mule_instrument'\n",
    "\n",
    "data_request_url ='/'.join((SENSOR_BASE_URL,site,node,instrument,method,stream))\n",
    "\n",
    "params = {\n",
    "  'beginDT':'2016-10-01T00:00:00.000Z',\n",
    "  'endDT':'2016-11-01T00:00:00.000Z',\n",
    "  'limit':1000,   \n",
    "}"
   ]
  },
  {
   "cell_type": "markdown",
   "metadata": {
    "colab_type": "text",
    "id": "Wa6s3pt7XvN8",
    "slideshow": {
     "slide_type": "slide"
    }
   },
   "source": [
    "Now that everything is setup, let's make the request. Here we will return the length of the returned data array."
   ]
  },
  {
   "cell_type": "code",
   "execution_count": 17,
   "metadata": {
    "colab": {
     "autoexec": {
      "startup": false,
      "wait_interval": 0
     },
     "base_uri": "https://localhost:8080/",
     "height": 35
    },
    "colab_type": "code",
    "executionInfo": {
     "elapsed": 1378,
     "status": "ok",
     "timestamp": 1528313036245,
     "user": {
      "displayName": "Sage Lichtenwalner",
      "photoUrl": "https://lh3.googleusercontent.com/a/default-user=s128",
      "userId": "107661401208389246829"
     },
     "user_tz": 240
    },
    "id": "dHbLMEOyXu0y",
    "outputId": "cb93d515-80a8-4808-aac9-0eed948055d4"
   },
   "outputs": [
    {
     "name": "stdout",
     "output_type": "stream",
     "text": [
      "6\n"
     ]
    }
   ],
   "source": [
    "r = requests.get(data_request_url, params=params, auth=(USERNAME, TOKEN))\n",
    "data = r.json()\n",
    "print( len(data) )"
   ]
  },
  {
   "cell_type": "markdown",
   "metadata": {
    "colab_type": "text",
    "id": "rsugX5aSYrls",
    "slideshow": {
     "slide_type": "slide"
    }
   },
   "source": [
    "Let's take a look at the first item in the list.  From this, we can see that each item is a dictionary of every variable this instrument measures."
   ]
  },
  {
   "cell_type": "code",
   "execution_count": 13,
   "metadata": {
    "colab": {
     "autoexec": {
      "startup": false,
      "wait_interval": 0
     },
     "base_uri": "https://localhost:8080/",
     "height": 629
    },
    "colab_type": "code",
    "executionInfo": {
     "elapsed": 492,
     "status": "ok",
     "timestamp": 1528313037913,
     "user": {
      "displayName": "Sage Lichtenwalner",
      "photoUrl": "https://lh3.googleusercontent.com/a/default-user=s128",
      "userId": "107661401208389246829"
     },
     "user_tz": 240
    },
    "id": "7XlUnkHHYhdB",
    "outputId": "e0a0ea2a-f3bd-467d-af71-fdd6f5c28407"
   },
   "outputs": [
    {
     "data": {
      "text/plain": [
       "{'practical_salinity': 32.395352318774655,\n",
       " 'ctd_time': 529228801,\n",
       " 'density_qc_executed': 29,\n",
       " 'driver_timestamp': 3722685717.0375433,\n",
       " 'conductivity': 397190,\n",
       " 'ctdmo_seawater_pressure_qc_executed': 29,\n",
       " 'practical_salinity_qc_results': 29,\n",
       " 'temperature': 190588,\n",
       " 'ctdmo_seawater_conductivity_qc_results': 29,\n",
       " 'density': 1025.243494104906,\n",
       " 'ctdmo_seawater_conductivity_qc_executed': 29,\n",
       " 'ctdmo_seawater_pressure_qc_results': 29,\n",
       " 'ctdmo_seawater_temperature': 9.058800000000002,\n",
       " 'internal_timestamp': 3684902401.0,\n",
       " 'pk': {'node': 'RIM01',\n",
       "  'stream': 'ctdmo_ghqr_sio_mule_instrument',\n",
       "  'subsite': 'GP03FLMB',\n",
       "  'deployment': 4,\n",
       "  'time': 3684902401.0,\n",
       "  'sensor': '02-CTDMOG060',\n",
       "  'method': 'telemetered'},\n",
       " 'ctdmo_seawater_conductivity': 3.4719,\n",
       " 'ctdmo_seawater_temperature_qc_executed': 29,\n",
       " 'ingestion_timestamp': 3722685723.77,\n",
       " 'port_timestamp': 0.0,\n",
       " 'pressure': 4873,\n",
       " 'ctdmo_seawater_temperature_qc_results': 29,\n",
       " 'ctdmo_seawater_pressure': 37.088139230566796,\n",
       " 'preferred_timestamp': 'internal_timestamp',\n",
       " 'sio_controller_timestamp': 1475928440,\n",
       " 'practical_salinity_qc_executed': 29,\n",
       " 'inductive_id': 60,\n",
       " 'density_qc_results': 29,\n",
       " 'time': 3684902401.0}"
      ]
     },
     "execution_count": 13,
     "metadata": {},
     "output_type": "execute_result"
    }
   ],
   "source": [
    "data[0]"
   ]
  },
  {
   "cell_type": "markdown",
   "metadata": {
    "colab_type": "text",
    "id": "Bnd1lSYwZQs_",
    "slideshow": {
     "slide_type": "slide"
    }
   },
   "source": [
    "### What it looks like when there isn't any data?\n",
    "Now, if we specified an time range that didn't have any data, this is what we would get."
   ]
  },
  {
   "cell_type": "code",
   "execution_count": 14,
   "metadata": {
    "colab": {
     "autoexec": {
      "startup": false,
      "wait_interval": 0
     },
     "base_uri": "https://localhost:8080/",
     "height": 96
    },
    "colab_type": "code",
    "executionInfo": {
     "elapsed": 1044,
     "status": "ok",
     "timestamp": 1528313040555,
     "user": {
      "displayName": "Sage Lichtenwalner",
      "photoUrl": "https://lh3.googleusercontent.com/a/default-user=s128",
      "userId": "107661401208389246829"
     },
     "user_tz": 240
    },
    "id": "c-b_V1z7YRG8",
    "outputId": "2c5183ae-27fe-4482-d240-3d15af13be21"
   },
   "outputs": [
    {
     "name": "stdout",
     "output_type": "stream",
     "text": [
      "2\n"
     ]
    },
    {
     "data": {
      "text/plain": [
       "{'message': {'status': '{\\n  \"message\": \"Query returned no results for primary stream\", \\n  \"requestUUID\": \"e14a893a-0430-4440-9224-76a62e12c072\"\\n}\\n'},\n",
       " 'status_code': 404}"
      ]
     },
     "execution_count": 14,
     "metadata": {},
     "output_type": "execute_result"
    }
   ],
   "source": [
    "params = {\n",
    "  'beginDT':'2017-10-24T00:00:00.000Z',\n",
    "  'endDT':'2017-10-25T00:00:00.000Z',\n",
    "  'limit':1000,   \n",
    "}\n",
    "\n",
    "r = requests.get(data_request_url, params=params, auth=(USERNAME, TOKEN))\n",
    "data = r.json()\n",
    "print( len(data) )\n",
    "data"
   ]
  },
  {
   "cell_type": "markdown",
   "metadata": {
    "colab_type": "text",
    "id": "D_aoaW_yn4FY",
    "slideshow": {
     "slide_type": "slide"
    }
   },
   "source": [
    "Note that in this case, the returned data array is only 2 items long, and the returned status_code is **404**, instead of **200**.  If you need to verify whether data was returned, you can use this info to add error checking to your script."
   ]
  },
  {
   "cell_type": "markdown",
   "metadata": {
    "colab_type": "text",
    "id": "H6DTMztdZZtX",
    "slideshow": {
     "slide_type": "slide"
    }
   },
   "source": [
    "### How do you limit the number of parameters returned?\n",
    "To limit the amount of data in the returned JSON array, we can specify just the parameters we want.  However, to do this, we need to figure out the parameter IDs (see below)."
   ]
  },
  {
   "cell_type": "code",
   "execution_count": 15,
   "metadata": {
    "colab": {
     "autoexec": {
      "startup": false,
      "wait_interval": 0
     },
     "base_uri": "https://localhost:8080/",
     "height": 233
    },
    "colab_type": "code",
    "executionInfo": {
     "elapsed": 1185,
     "status": "ok",
     "timestamp": 1528313044303,
     "user": {
      "displayName": "Sage Lichtenwalner",
      "photoUrl": "https://lh3.googleusercontent.com/a/default-user=s128",
      "userId": "107661401208389246829"
     },
     "user_tz": 240
    },
    "id": "MaDwVYMuZPDh",
    "outputId": "805818d8-4907-49e8-b861-dba2e3471861",
    "slideshow": {
     "slide_type": "slide"
    }
   },
   "outputs": [
    {
     "name": "stdout",
     "output_type": "stream",
     "text": [
      "20\n"
     ]
    },
    {
     "data": {
      "text/plain": [
       "{'practical_salinity': 32.57040101955179,\n",
       " 'practical_salinity_qc_results': 29,\n",
       " 'pk': {'node': 'RIM01',\n",
       "  'stream': 'ctdmo_ghqr_sio_mule_instrument',\n",
       "  'subsite': 'GP03FLMB',\n",
       "  'deployment': 4,\n",
       "  'time': 3684916801.0,\n",
       "  'sensor': '02-CTDMOG060',\n",
       "  'method': 'telemetered'},\n",
       " 'practical_salinity_qc_executed': 29,\n",
       " 'time': 3684916801.0}"
      ]
     },
     "execution_count": 15,
     "metadata": {},
     "output_type": "execute_result"
    }
   ],
   "source": [
    "params = {\n",
    "  'beginDT':'2016-10-01T00:00:00.000Z',\n",
    "  'endDT':'2016-11-01T00:00:00.000Z',\n",
    "  'limit':1000,\n",
    "  'parameters':'7,13' #time=7, salinity=13, temperature=2927, pressure=2926\n",
    "}\n",
    "\n",
    "r = requests.get(data_request_url, params=params, auth=(USERNAME, TOKEN))\n",
    "data = r.json()\n",
    "print( len(data) )\n",
    "data[1]"
   ]
  },
  {
   "cell_type": "markdown",
   "metadata": {
    "colab_type": "text",
    "id": "aWsECwQdVXkc",
    "slideshow": {
     "slide_type": "slide"
    }
   },
   "source": [
    "# Asynchnorous Data Requests \n",
    "* Results returned as downloadable NetCDF files\n",
    "\n",
    "Synchronous requests are great when you just want to grab a little bit of data quickly. Thus, it is very useful for applications like interactive graphs on a web site.\n",
    "\n",
    "However, if you want a larger and more complete dataset, you will need to create an Asynchronous request, which take longer to process, sometimes up to an hour or more depending on how much data you are requesting and what else the system is doing.  The end result will be a web accessible directory of NetCDF data files.\n",
    "\n",
    "This is essentially the same functionality as requesting a download from the OOI Data Portal, but with the API you can easily create one or more requests in an automated way.\n",
    "\n",
    "The request format is essentially the same as above, except we can drop the **limit** option from the params array.  We could also omit the start and end dates, if we want to grab all available data.\n",
    "\n",
    "By default, asynchronous requests will return NetCDF files, but you could also specify csv or json, using the **format** option.  Optionally, you can also specify **include_provenance** and **include_annotations** which will include separate text files in the output directory with that information."
   ]
  },
  {
   "cell_type": "code",
   "execution_count": 16,
   "metadata": {
    "colab": {
     "autoexec": {
      "startup": false,
      "wait_interval": 0
     }
    },
    "colab_type": "code",
    "id": "oyzMSXg6bDAt",
    "slideshow": {
     "slide_type": "slide"
    }
   },
   "outputs": [],
   "source": [
    "# Instrument Information\n",
    "site = 'GP03FLMB'\n",
    "node = 'RIM01'\n",
    "instrument = '02-CTDMOG060'\n",
    "method = 'telemetered'\n",
    "stream = 'ctdmo_ghqr_sio_mule_instrument'\n",
    "\n",
    "# Create the request URL\n",
    "data_request_url ='/'.join((SENSOR_BASE_URL,site,node,instrument,method,stream))\n",
    "\n",
    "# All of the following are optional\n",
    "params = {\n",
    "  'beginDT':'2016-10-01T00:00:00.000Z',\n",
    "  'endDT':'2016-11-01T00:00:00.000Z',\n",
    "  'format':'application/netcdf',\n",
    "  'include_provenance':'true',\n",
    "  'include_annotations':'true'\n",
    "}"
   ]
  },
  {
   "cell_type": "markdown",
   "metadata": {
    "colab_type": "text",
    "id": "XRe-uYUokBV3",
    "slideshow": {
     "slide_type": "slide"
    }
   },
   "source": [
    "Now let's send the request.  (Note, these lines are commented out, to prevent accidental resubmission when running through the entire notebook quickly.)"
   ]
  },
  {
   "cell_type": "code",
   "execution_count": 18,
   "metadata": {
    "colab": {
     "autoexec": {
      "startup": false,
      "wait_interval": 0
     }
    },
    "colab_type": "code",
    "id": "01iDPEtei1rG"
   },
   "outputs": [],
   "source": [
    "# r = requests.get(data_request_url, params=params, auth=(USERNAME, TOKEN))\n",
    "# data = r.json()"
   ]
  },
  {
   "cell_type": "markdown",
   "metadata": {
    "colab_type": "text",
    "id": "rUTunB3mkk56",
    "slideshow": {
     "slide_type": "slide"
    }
   },
   "source": [
    "While the Synchronous request returned an array of actual data, this time we will just get some URLs and some other metadata about our request."
   ]
  },
  {
   "cell_type": "code",
   "execution_count": 19,
   "metadata": {
    "colab": {
     "autoexec": {
      "startup": false,
      "wait_interval": 0
     },
     "base_uri": "https://localhost:8080/",
     "height": 168
    },
    "colab_type": "code",
    "executionInfo": {
     "elapsed": 364,
     "status": "ok",
     "timestamp": 1528313121209,
     "user": {
      "displayName": "Sage Lichtenwalner",
      "photoUrl": "https://lh3.googleusercontent.com/a/default-user=s128",
      "userId": "107661401208389246829"
     },
     "user_tz": 240
    },
    "id": "zWcFn629j3W9",
    "outputId": "03b04596-1aeb-4197-827d-f415b17ba096"
   },
   "outputs": [
    {
     "data": {
      "text/plain": [
       "{'requestUUID': 'dd91c0cd-ecb8-4334-b4cc-7d5197120278',\n",
       " 'outputURL': 'https://opendap.oceanobservatories.org/thredds/catalog/ooi/ooidatateam@gmail.com/20180710T141111-GP03FLMB-RIM01-02-CTDMOG060-telemetered-ctdmo_ghqr_sio_mule_instrument/catalog.html',\n",
       " 'allURLs': ['https://opendap.oceanobservatories.org/thredds/catalog/ooi/ooidatateam@gmail.com/20180710T141111-GP03FLMB-RIM01-02-CTDMOG060-telemetered-ctdmo_ghqr_sio_mule_instrument/catalog.html',\n",
       "  'https://opendap.oceanobservatories.org/async_results/ooidatateam@gmail.com/20180710T141111-GP03FLMB-RIM01-02-CTDMOG060-telemetered-ctdmo_ghqr_sio_mule_instrument'],\n",
       " 'sizeCalculation': 4080,\n",
       " 'timeCalculation': 60,\n",
       " 'numberOfSubJobs': 2}"
      ]
     },
     "execution_count": 19,
     "metadata": {},
     "output_type": "execute_result"
    }
   ],
   "source": [
    "data"
   ]
  },
  {
   "cell_type": "markdown",
   "metadata": {
    "colab_type": "text",
    "id": "V0IQHzLJkL14",
    "slideshow": {
     "slide_type": "slide"
    }
   },
   "source": [
    "The first URL in the **allURLs** key points to the THREDDS server, which allows for programmatic data access without downloading the entire file."
   ]
  },
  {
   "cell_type": "code",
   "execution_count": 20,
   "metadata": {
    "colab": {
     "autoexec": {
      "startup": false,
      "wait_interval": 0
     },
     "base_uri": "https://localhost:8080/",
     "height": 60
    },
    "colab_type": "code",
    "executionInfo": {
     "elapsed": 347,
     "status": "ok",
     "timestamp": 1528313122681,
     "user": {
      "displayName": "Sage Lichtenwalner",
      "photoUrl": "https://lh3.googleusercontent.com/a/default-user=s128",
      "userId": "107661401208389246829"
     },
     "user_tz": 240
    },
    "id": "feUc368ekL_o",
    "outputId": "e871a7dd-4665-405e-ee9f-911d239f03ad"
   },
   "outputs": [
    {
     "name": "stdout",
     "output_type": "stream",
     "text": [
      "https://opendap.oceanobservatories.org/thredds/catalog/ooi/ooidatateam@gmail.com/20180710T141111-GP03FLMB-RIM01-02-CTDMOG060-telemetered-ctdmo_ghqr_sio_mule_instrument/catalog.html\n"
     ]
    }
   ],
   "source": [
    "print(data['allURLs'][0])"
   ]
  },
  {
   "cell_type": "markdown",
   "metadata": {
    "colab_type": "text",
    "id": "GftevvEbkSu8",
    "slideshow": {
     "slide_type": "slide"
    }
   },
   "source": [
    "The second URL in the **allURLs** key provides a direct link to a web server which you can use to quickly download files if you don't want to go through THREDDS."
   ]
  },
  {
   "cell_type": "code",
   "execution_count": 21,
   "metadata": {
    "colab": {
     "autoexec": {
      "startup": false,
      "wait_interval": 0
     },
     "base_uri": "https://localhost:8080/",
     "height": 60
    },
    "colab_type": "code",
    "executionInfo": {
     "elapsed": 297,
     "status": "ok",
     "timestamp": 1528313124863,
     "user": {
      "displayName": "Sage Lichtenwalner",
      "photoUrl": "https://lh3.googleusercontent.com/a/default-user=s128",
      "userId": "107661401208389246829"
     },
     "user_tz": 240
    },
    "id": "5EnjDDeZkTI6",
    "outputId": "011cccb9-a03e-4e48-d370-4aaaf6ce9e33"
   },
   "outputs": [
    {
     "name": "stdout",
     "output_type": "stream",
     "text": [
      "https://opendap.oceanobservatories.org/async_results/ooidatateam@gmail.com/20180710T141111-GP03FLMB-RIM01-02-CTDMOG060-telemetered-ctdmo_ghqr_sio_mule_instrument\n"
     ]
    }
   ],
   "source": [
    "print(data['allURLs'][1])"
   ]
  },
  {
   "cell_type": "markdown",
   "metadata": {
    "colab_type": "text",
    "id": "wwn6ymX3lVtx",
    "slideshow": {
     "slide_type": "slide"
    }
   },
   "source": [
    "### How can you check when a request is complete?\n",
    "\n",
    "We can use the second URL to check if a status.txt file has been written to the location. If true, then the request has completed and all data have been delivered to the THREDDS server.\n",
    "\n",
    "The following for loop will poll the location for the status.txt files 1000 times, once every 0.5 seconds. Therefore, it will quit after about 8.3 minutes. If you are requesting a very large and dense dataset (3 years of BOTPT data collected at 20 Hz, for example), it may take a bit longer to complete the request, so you will want to bump up the retry range or lower the sleep interval."
   ]
  },
  {
   "cell_type": "code",
   "execution_count": 25,
   "metadata": {},
   "outputs": [],
   "source": [
    "import time"
   ]
  },
  {
   "cell_type": "code",
   "execution_count": 26,
   "metadata": {
    "colab": {
     "autoexec": {
      "startup": false,
      "wait_interval": 0
     }
    },
    "colab_type": "code",
    "id": "7ngZeFgLmPDl",
    "slideshow": {
     "slide_type": "slide"
    }
   },
   "outputs": [
    {
     "name": "stdout",
     "output_type": "stream",
     "text": [
      "request completed\n",
      "CPU times: user 15 ms, sys: 1 ms, total: 16 ms\n",
      "Wall time: 150 ms\n"
     ]
    }
   ],
   "source": [
    "%%time\n",
    "check_complete = data['allURLs'][1] + '/status.txt'\n",
    "for i in range(1000): \n",
    "    r = requests.get(check_complete)\n",
    "    if r.status_code == requests.codes.ok:\n",
    "        print('request completed')\n",
    "        break\n",
    "    else:\n",
    "        time.sleep(.5)"
   ]
  },
  {
   "cell_type": "markdown",
   "metadata": {
    "colab_type": "text",
    "id": "rVTG6j9cZfJD",
    "slideshow": {
     "slide_type": "slide"
    }
   },
   "source": [
    "# Sensor Metadata\n",
    "\n",
    "Getting data is nice, but one of the other big advantages to using the API is that you can query the system about all kinds of metadata.  To start, let's see what sensor metadata is available.\n",
    "\n",
    "This query looks a lot like the above data requests, except we're explicitly asking for just the metadata.\n",
    "\n",
    "The following metadata requests are possible:\n",
    "\n",
    "```\n",
    "/sensor/inv/{subsite}/{node}/{sensor}/metadata\n",
    "/sensor/inv/CE01ISSM/MFC31/00-CPMENG000/metadata/times\n",
    "/sensor/inv/CE01ISSM/MFC31/00-CPMENG000/metadata/parameters\n",
    "\n",
    "```\n",
    "The first request grabs both times and parameters, the others specify just a single request.\n"
   ]
  },
  {
   "cell_type": "code",
   "execution_count": 27,
   "metadata": {
    "colab": {
     "autoexec": {
      "startup": false,
      "wait_interval": 0
     }
    },
    "colab_type": "code",
    "id": "qgwSzRvUtxsx",
    "slideshow": {
     "slide_type": "slide"
    }
   },
   "outputs": [],
   "source": [
    "# Instrument Information\n",
    "site = 'GP03FLMB'\n",
    "node = 'RIM01'\n",
    "instrument = '02-CTDMOG060'\n",
    "method = 'telemetered'\n",
    "stream = 'ctdmo_ghqr_sio_mule_instrument'\n",
    "\n",
    "# Create the request URL\n",
    "data_request_url ='/'.join((SENSOR_BASE_URL,site,node,instrument,'metadata'))"
   ]
  },
  {
   "cell_type": "code",
   "execution_count": 28,
   "metadata": {
    "colab": {
     "autoexec": {
      "startup": false,
      "wait_interval": 0
     }
    },
    "colab_type": "code",
    "id": "NXYsdg-3t4Fc"
   },
   "outputs": [],
   "source": [
    "r = requests.get(data_request_url, params=params, auth=(USERNAME, TOKEN))\n",
    "data = r.json()"
   ]
  },
  {
   "cell_type": "code",
   "execution_count": 29,
   "metadata": {
    "colab": {
     "autoexec": {
      "startup": false,
      "wait_interval": 0
     },
     "base_uri": "https://localhost:8080/",
     "height": 323
    },
    "colab_type": "code",
    "executionInfo": {
     "elapsed": 278,
     "status": "ok",
     "timestamp": 1528313331336,
     "user": {
      "displayName": "Sage Lichtenwalner",
      "photoUrl": "https://lh3.googleusercontent.com/a/default-user=s128",
      "userId": "107661401208389246829"
     },
     "user_tz": 240
    },
    "id": "eVYiBHGKuLW8",
    "outputId": "6f0b779f-0e45-45fd-f3f3-b66c83c8f015",
    "slideshow": {
     "slide_type": "slide"
    }
   },
   "outputs": [
    {
     "name": "stdout",
     "output_type": "stream",
     "text": [
      "{\n",
      "    \"type\": \"DOUBLE\",\n",
      "    \"stream\": \"ctdmo_ghqr_instrument_recovered\",\n",
      "    \"units\": \"seconds since 1900-01-01\",\n",
      "    \"fillValue\": \"-9999999\",\n",
      "    \"pdId\": \"PD7\",\n",
      "    \"particleKey\": \"time\",\n",
      "    \"unsigned\": false,\n",
      "    \"shape\": \"SCALAR\"\n",
      "}\n",
      "{\n",
      "    \"stream\": \"ctdmo_ghqr_offset_recovered\",\n",
      "    \"method\": \"recovered_host\",\n",
      "    \"count\": 1092,\n",
      "    \"endTime\": \"2017-07-16T20:07:20.000Z\",\n",
      "    \"beginTime\": \"2013-07-25T22:07:18.000Z\"\n",
      "}\n"
     ]
    }
   ],
   "source": [
    "# Print out the response using PrettyPrint\n",
    "# import pprint\n",
    "# pp = pprint.PrettyPrinter(indent=2)\n",
    "# pp.pprint(data)\n",
    "\n",
    "import json\n",
    "\n",
    "# Print out the response using json.dumps()\n",
    "# print json.dumps(data, indent=4);\n",
    "\n",
    "# Print out just one element\n",
    "print( json.dumps(data['parameters'][0], indent=4) );\n",
    "print( json.dumps(data['times'][0], indent=4) );"
   ]
  },
  {
   "cell_type": "markdown",
   "metadata": {
    "colab_type": "text",
    "id": "ZkFwJ95z9yJI",
    "slideshow": {
     "slide_type": "slide"
    }
   },
   "source": [
    "The response includes a list of every parameter for every data stream produced by the instrument.  There may be several entries with the same parameter, if multiple streams produce the same one.\n",
    "\n",
    "The times array, includes the start and end times of the entire data record for each stream.  There may still be gaps, but this is useful for knowing how up to date a data stream is (i.e. is it close to real time, or how recent was the last recovered data available?)\n",
    "\n",
    "Let's put all of the parameters into a single table, and then filter the results to just the telemetered stream we were interested in above."
   ]
  },
  {
   "cell_type": "code",
   "execution_count": 30,
   "metadata": {
    "colab": {
     "autoexec": {
      "startup": false,
      "wait_interval": 0
     },
     "base_uri": "https://localhost:8080/",
     "height": 341
    },
    "colab_type": "code",
    "executionInfo": {
     "elapsed": 305,
     "status": "ok",
     "timestamp": 1528313332552,
     "user": {
      "displayName": "Sage Lichtenwalner",
      "photoUrl": "https://lh3.googleusercontent.com/a/default-user=s128",
      "userId": "107661401208389246829"
     },
     "user_tz": 240
    },
    "id": "G84IghoO-0g4",
    "outputId": "21c9cebb-abd7-4c96-a808-898f331c0307",
    "slideshow": {
     "slide_type": "slide"
    }
   },
   "outputs": [
    {
     "name": "stdout",
     "output_type": "stream",
     "text": [
      "                    particleKey    pdId                     units\n",
      "27                         time     PD7  seconds since 1900-01-01\n",
      "28               port_timestamp    PD10  seconds since 1900-01-01\n",
      "29             driver_timestamp    PD11  seconds since 1900-01-01\n",
      "30           internal_timestamp    PD12  seconds since 1900-01-01\n",
      "31          preferred_timestamp    PD16                         1\n",
      "32                  temperature   PD193                    counts\n",
      "33                 conductivity   PD194                    counts\n",
      "34                     pressure   PD195                    counts\n",
      "35                     ctd_time   PD198  seconds since 2000-01-01\n",
      "36          ingestion_timestamp   PD863  seconds since 1900-01-01\n",
      "37                 inductive_id  PD1558                         1\n",
      "38     sio_controller_timestamp  PD2174  seconds since 1970-01-01\n",
      "39      ctdmo_seawater_pressure  PD2926                      dbar\n",
      "40   ctdmo_seawater_temperature  PD2927                        ºC\n",
      "41  ctdmo_seawater_conductivity  PD2928                     S m-1\n",
      "42                      density     PD5                    kg m-3\n",
      "43           practical_salinity    PD13                         1\n"
     ]
    }
   ],
   "source": [
    "import pandas as pd\n",
    "\n",
    "# Convert the parameters array into a DataFrame\n",
    "parameters = pd.DataFrame(data['parameters'],\n",
    "                          columns=['particleKey','pdId','units','stream'])\n",
    "\n",
    "# Filter out the parameters for a single stream\n",
    "parameters = parameters[parameters['stream']=='ctdmo_ghqr_sio_mule_instrument']\n",
    "\n",
    "# Print out selected columns\n",
    "print( parameters[['particleKey','pdId','units']] )\n"
   ]
  },
  {
   "cell_type": "markdown",
   "metadata": {
    "colab_type": "text",
    "id": "E-szIaB0Pq9f",
    "slideshow": {
     "slide_type": "slide"
    }
   },
   "source": [
    "# Parameter & Stream Information\n",
    "\n",
    "We could have gotten a similar list by using a different API endpoint, to retrieve information on a specific stream."
   ]
  },
  {
   "cell_type": "code",
   "execution_count": 31,
   "metadata": {
    "colab": {
     "autoexec": {
      "startup": false,
      "wait_interval": 0
     },
     "base_uri": "https://localhost:8080/",
     "height": 746
    },
    "colab_type": "code",
    "executionInfo": {
     "elapsed": 455,
     "status": "ok",
     "timestamp": 1528313334497,
     "user": {
      "displayName": "Sage Lichtenwalner",
      "photoUrl": "https://lh3.googleusercontent.com/a/default-user=s128",
      "userId": "107661401208389246829"
     },
     "user_tz": 240
    },
    "id": "gfX5m4VFYq2l",
    "outputId": "da2cd169-68f9-4401-dfbf-db1c346598c0",
    "slideshow": {
     "slide_type": "slide"
    }
   },
   "outputs": [
    {
     "data": {
      "text/html": [
       "<div>\n",
       "<style scoped>\n",
       "    .dataframe tbody tr th:only-of-type {\n",
       "        vertical-align: middle;\n",
       "    }\n",
       "\n",
       "    .dataframe tbody tr th {\n",
       "        vertical-align: top;\n",
       "    }\n",
       "\n",
       "    .dataframe thead th {\n",
       "        text-align: right;\n",
       "    }\n",
       "</style>\n",
       "<table border=\"1\" class=\"dataframe\">\n",
       "  <thead>\n",
       "    <tr style=\"text-align: right;\">\n",
       "      <th></th>\n",
       "      <th>id</th>\n",
       "      <th>name</th>\n",
       "      <th>data_product_type</th>\n",
       "      <th>display_name</th>\n",
       "      <th>unit</th>\n",
       "    </tr>\n",
       "  </thead>\n",
       "  <tbody>\n",
       "    <tr>\n",
       "      <th>0</th>\n",
       "      <td>7</td>\n",
       "      <td>time</td>\n",
       "      <td>None</td>\n",
       "      <td>Time, UTC</td>\n",
       "      <td>{'value': 'seconds since 1900-01-01'}</td>\n",
       "    </tr>\n",
       "    <tr>\n",
       "      <th>1</th>\n",
       "      <td>10</td>\n",
       "      <td>port_timestamp</td>\n",
       "      <td>None</td>\n",
       "      <td>Port Timestamp, UTC</td>\n",
       "      <td>{'value': 'seconds since 1900-01-01'}</td>\n",
       "    </tr>\n",
       "    <tr>\n",
       "      <th>2</th>\n",
       "      <td>11</td>\n",
       "      <td>driver_timestamp</td>\n",
       "      <td>None</td>\n",
       "      <td>Driver Timestamp, UTC</td>\n",
       "      <td>{'value': 'seconds since 1900-01-01'}</td>\n",
       "    </tr>\n",
       "    <tr>\n",
       "      <th>3</th>\n",
       "      <td>12</td>\n",
       "      <td>internal_timestamp</td>\n",
       "      <td>None</td>\n",
       "      <td>Internal Timestamp, UTC</td>\n",
       "      <td>{'value': 'seconds since 1900-01-01'}</td>\n",
       "    </tr>\n",
       "    <tr>\n",
       "      <th>4</th>\n",
       "      <td>16</td>\n",
       "      <td>preferred_timestamp</td>\n",
       "      <td>None</td>\n",
       "      <td>Preferred Timestamp</td>\n",
       "      <td>{'value': '1'}</td>\n",
       "    </tr>\n",
       "    <tr>\n",
       "      <th>5</th>\n",
       "      <td>193</td>\n",
       "      <td>temperature</td>\n",
       "      <td>{'value': 'Unprocessed Data'}</td>\n",
       "      <td>Seawater Temperature Measurement</td>\n",
       "      <td>{'value': 'counts'}</td>\n",
       "    </tr>\n",
       "    <tr>\n",
       "      <th>6</th>\n",
       "      <td>194</td>\n",
       "      <td>conductivity</td>\n",
       "      <td>{'value': 'Unprocessed Data'}</td>\n",
       "      <td>Seawater Conductivity Measurement</td>\n",
       "      <td>{'value': 'counts'}</td>\n",
       "    </tr>\n",
       "    <tr>\n",
       "      <th>7</th>\n",
       "      <td>195</td>\n",
       "      <td>pressure</td>\n",
       "      <td>{'value': 'Unprocessed Data'}</td>\n",
       "      <td>Seawater Pressure Measurement</td>\n",
       "      <td>{'value': 'counts'}</td>\n",
       "    </tr>\n",
       "    <tr>\n",
       "      <th>8</th>\n",
       "      <td>198</td>\n",
       "      <td>ctd_time</td>\n",
       "      <td>None</td>\n",
       "      <td>Time, UTC</td>\n",
       "      <td>{'value': 'seconds since 2000-01-01'}</td>\n",
       "    </tr>\n",
       "    <tr>\n",
       "      <th>9</th>\n",
       "      <td>863</td>\n",
       "      <td>ingestion_timestamp</td>\n",
       "      <td>None</td>\n",
       "      <td>Ingestion Timestamp, UTC</td>\n",
       "      <td>{'value': 'seconds since 1900-01-01'}</td>\n",
       "    </tr>\n",
       "    <tr>\n",
       "      <th>10</th>\n",
       "      <td>1558</td>\n",
       "      <td>inductive_id</td>\n",
       "      <td>None</td>\n",
       "      <td>Inductive ID</td>\n",
       "      <td>{'value': '1'}</td>\n",
       "    </tr>\n",
       "    <tr>\n",
       "      <th>11</th>\n",
       "      <td>2174</td>\n",
       "      <td>sio_controller_timestamp</td>\n",
       "      <td>None</td>\n",
       "      <td>SIO Controller Time</td>\n",
       "      <td>{'value': 'seconds since 1970-01-01'}</td>\n",
       "    </tr>\n",
       "    <tr>\n",
       "      <th>12</th>\n",
       "      <td>2926</td>\n",
       "      <td>ctdmo_seawater_pressure</td>\n",
       "      <td>{'value': 'Science Data'}</td>\n",
       "      <td>Seawater Pressure</td>\n",
       "      <td>{'value': 'dbar'}</td>\n",
       "    </tr>\n",
       "    <tr>\n",
       "      <th>13</th>\n",
       "      <td>2927</td>\n",
       "      <td>ctdmo_seawater_temperature</td>\n",
       "      <td>{'value': 'Science Data'}</td>\n",
       "      <td>Seawater Temperature</td>\n",
       "      <td>{'value': 'ºC'}</td>\n",
       "    </tr>\n",
       "    <tr>\n",
       "      <th>14</th>\n",
       "      <td>2928</td>\n",
       "      <td>ctdmo_seawater_conductivity</td>\n",
       "      <td>{'value': 'Science Data'}</td>\n",
       "      <td>Seawater Conductivity</td>\n",
       "      <td>{'value': 'S m-1'}</td>\n",
       "    </tr>\n",
       "    <tr>\n",
       "      <th>15</th>\n",
       "      <td>5</td>\n",
       "      <td>density</td>\n",
       "      <td>{'value': 'Science Data'}</td>\n",
       "      <td>Seawater Density</td>\n",
       "      <td>{'value': 'kg m-3'}</td>\n",
       "    </tr>\n",
       "    <tr>\n",
       "      <th>16</th>\n",
       "      <td>13</td>\n",
       "      <td>practical_salinity</td>\n",
       "      <td>{'value': 'Science Data'}</td>\n",
       "      <td>Practical Salinity</td>\n",
       "      <td>{'value': '1'}</td>\n",
       "    </tr>\n",
       "  </tbody>\n",
       "</table>\n",
       "</div>"
      ],
      "text/plain": [
       "      id                         name              data_product_type  \\\n",
       "0      7                         time                           None   \n",
       "1     10               port_timestamp                           None   \n",
       "2     11             driver_timestamp                           None   \n",
       "3     12           internal_timestamp                           None   \n",
       "4     16          preferred_timestamp                           None   \n",
       "5    193                  temperature  {'value': 'Unprocessed Data'}   \n",
       "6    194                 conductivity  {'value': 'Unprocessed Data'}   \n",
       "7    195                     pressure  {'value': 'Unprocessed Data'}   \n",
       "8    198                     ctd_time                           None   \n",
       "9    863          ingestion_timestamp                           None   \n",
       "10  1558                 inductive_id                           None   \n",
       "11  2174     sio_controller_timestamp                           None   \n",
       "12  2926      ctdmo_seawater_pressure      {'value': 'Science Data'}   \n",
       "13  2927   ctdmo_seawater_temperature      {'value': 'Science Data'}   \n",
       "14  2928  ctdmo_seawater_conductivity      {'value': 'Science Data'}   \n",
       "15     5                      density      {'value': 'Science Data'}   \n",
       "16    13           practical_salinity      {'value': 'Science Data'}   \n",
       "\n",
       "                         display_name                                   unit  \n",
       "0                           Time, UTC  {'value': 'seconds since 1900-01-01'}  \n",
       "1                 Port Timestamp, UTC  {'value': 'seconds since 1900-01-01'}  \n",
       "2               Driver Timestamp, UTC  {'value': 'seconds since 1900-01-01'}  \n",
       "3             Internal Timestamp, UTC  {'value': 'seconds since 1900-01-01'}  \n",
       "4                 Preferred Timestamp                         {'value': '1'}  \n",
       "5    Seawater Temperature Measurement                    {'value': 'counts'}  \n",
       "6   Seawater Conductivity Measurement                    {'value': 'counts'}  \n",
       "7       Seawater Pressure Measurement                    {'value': 'counts'}  \n",
       "8                           Time, UTC  {'value': 'seconds since 2000-01-01'}  \n",
       "9            Ingestion Timestamp, UTC  {'value': 'seconds since 1900-01-01'}  \n",
       "10                       Inductive ID                         {'value': '1'}  \n",
       "11                SIO Controller Time  {'value': 'seconds since 1970-01-01'}  \n",
       "12                  Seawater Pressure                      {'value': 'dbar'}  \n",
       "13               Seawater Temperature                        {'value': 'ºC'}  \n",
       "14              Seawater Conductivity                     {'value': 'S m-1'}  \n",
       "15                   Seawater Density                    {'value': 'kg m-3'}  \n",
       "16                 Practical Salinity                         {'value': '1'}  "
      ]
     },
     "execution_count": 31,
     "metadata": {},
     "output_type": "execute_result"
    }
   ],
   "source": [
    "# Retrieve information for a Preload Stream given its name. \n",
    "url = 'https://ooinet.oceanobservatories.org/api/m2m/12575/stream/byname/ctdmo_ghqr_sio_mule_instrument'\n",
    "r = requests.get(url, auth=(USERNAME, TOKEN))\n",
    "data = r.json()\n",
    "\n",
    "# Convert to Data Frame\n",
    "parameters = pd.DataFrame(data['parameters'])\n",
    "parameters[['id','name','data_product_type','display_name','unit']]"
   ]
  },
  {
   "cell_type": "markdown",
   "metadata": {
    "colab_type": "text",
    "id": "blbS7FCDjtd0",
    "slideshow": {
     "slide_type": "slide"
    }
   },
   "source": [
    "And to get information on a specific parameter..."
   ]
  },
  {
   "cell_type": "code",
   "execution_count": 32,
   "metadata": {
    "colab": {
     "autoexec": {
      "startup": false,
      "wait_interval": 0
     },
     "base_uri": "https://localhost:8080/",
     "height": 744
    },
    "colab_type": "code",
    "executionInfo": {
     "elapsed": 516,
     "status": "ok",
     "timestamp": 1528313336625,
     "user": {
      "displayName": "Sage Lichtenwalner",
      "photoUrl": "https://lh3.googleusercontent.com/a/default-user=s128",
      "userId": "107661401208389246829"
     },
     "user_tz": 240
    },
    "id": "H5FnB27AiltE",
    "outputId": "e97d84e5-d9a6-487c-f4a7-fc68ff57ef53"
   },
   "outputs": [
    {
     "name": "stdout",
     "output_type": "stream",
     "text": [
      "{\n",
      "    \"name\": \"practical_salinity\",\n",
      "    \"display_name\": \"Practical Salinity\",\n",
      "    \"standard_name\": \"sea_water_practical_salinity\",\n",
      "    \"description\": \"Salinity is generally defined as the concentration of dissolved salt in a parcel of seawater. Practical Salinity is a more specific unitless quantity calculated from the conductivity of seawater and adjusted for temperature and pressure. It is approximately equivalent to Absolute Salinity (the mass fraction of dissolved salt in seawater) but they are not interchangeable.\",\n",
      "    \"id\": 13,\n",
      "    \"data_product_identifier\": \"PRACSAL_L2\",\n",
      "    \"precision\": 4,\n",
      "    \"fill_value\": {\n",
      "        \"value\": \"-9999999\"\n",
      "    },\n",
      "    \"unit\": {\n",
      "        \"value\": \"1\"\n",
      "    },\n",
      "    \"data_level\": 2,\n",
      "    \"code_set\": null,\n",
      "    \"value_encoding\": {\n",
      "        \"value\": \"float32\"\n",
      "    },\n",
      "    \"parameter_type\": {\n",
      "        \"value\": \"function\"\n",
      "    },\n",
      "    \"parameter_function\": {\n",
      "        \"name\": \"ctd_pracsal\",\n",
      "        \"id\": 26,\n",
      "        \"owner\": \"ion_functions.data.ctd_functions\",\n",
      "        \"description\": \"Compute the L2 PRACSAL data product from CTD\",\n",
      "        \"function_type\": {\n",
      "            \"value\": \"PythonFunction\"\n",
      "        },\n",
      "        \"qc_flag\": null,\n",
      "        \"function\": \"ctd_pracsal\"\n",
      "    },\n",
      "    \"data_product_type\": {\n",
      "        \"value\": \"Science Data\"\n",
      "    },\n",
      "    \"dimensions\": [],\n",
      "    \"parameter_function_map\": \"{\\\"p\\\": \\\"dpi_PRESWAT_L1\\\", \\\"c\\\": \\\"dpi_CONDWAT_L1\\\", \\\"t\\\": \\\"dpi_TEMPWAT_L1\\\"}\"\n",
      "}\n"
     ]
    }
   ],
   "source": [
    "# Retrieve information for a Preload Parameter given its identifier.\n",
    "url = 'https://ooinet.oceanobservatories.org/api/m2m/12575/parameter/13'\n",
    "r = requests.get(url, auth=(USERNAME, TOKEN))\n",
    "data = r.json()\n",
    "\n",
    "print( json.dumps(data, indent=4) )"
   ]
  },
  {
   "cell_type": "markdown",
   "metadata": {
    "colab_type": "text",
    "id": "rSyZTY15leCP",
    "slideshow": {
     "slide_type": "slide"
    }
   },
   "source": [
    "# Deployments\n",
    "\n",
    "To find out how many times an instrument has been deployed (and for which there is data in the system), we can use the Deployments API endpoint."
   ]
  },
  {
   "cell_type": "code",
   "execution_count": 33,
   "metadata": {
    "colab": {
     "autoexec": {
      "startup": false,
      "wait_interval": 0
     },
     "base_uri": "https://localhost:8080/",
     "height": 35
    },
    "colab_type": "code",
    "executionInfo": {
     "elapsed": 532,
     "status": "ok",
     "timestamp": 1528313339837,
     "user": {
      "displayName": "Sage Lichtenwalner",
      "photoUrl": "https://lh3.googleusercontent.com/a/default-user=s128",
      "userId": "107661401208389246829"
     },
     "user_tz": 240
    },
    "id": "miozeGmZlmXG",
    "outputId": "a7c58ca6-e206-4a6f-cd79-dfd480e17652"
   },
   "outputs": [
    {
     "data": {
      "text/plain": [
       "[1, 2, 3, 4, 5]"
      ]
     },
     "execution_count": 33,
     "metadata": {},
     "output_type": "execute_result"
    }
   ],
   "source": [
    "# Retrieve vocabulary information for a given instrument\n",
    "DEPLOYMENT_BASE_URL = 'https://ooinet.oceanobservatories.org/api/m2m/12587/events/deployment/inv'\n",
    "request_url = DEPLOYMENT_BASE_URL+'/GP03FLMB/RIM01/02-CTDMOG060'\n",
    "r = requests.get(request_url, auth=(USERNAME, TOKEN))\n",
    "data = r.json()\n",
    "\n",
    "data"
   ]
  },
  {
   "cell_type": "markdown",
   "metadata": {
    "colab_type": "text",
    "id": "BQ-LsFnfmI39",
    "slideshow": {
     "slide_type": "slide"
    }
   },
   "source": [
    "We can then add a specific deployment number, to retrieve detailed information on that deployment.  Alternatively, you can specify \"-1\" to get information about all deployments."
   ]
  },
  {
   "cell_type": "code",
   "execution_count": 36,
   "metadata": {
    "colab": {
     "autoexec": {
      "startup": false,
      "wait_interval": 0
     }
    },
    "colab_type": "code",
    "id": "bphibYcomCO7"
   },
   "outputs": [],
   "source": [
    "# Retrieve vocabulary information for a given instrument\n",
    "request_url = DEPLOYMENT_BASE_URL+'/GP03FLMB/RIM01/02-CTDMOG060/5'\n",
    "r = requests.get(request_url, auth=(USERNAME, TOKEN))\n",
    "data = r.json()\n",
    "# print( json.dumps(data, indent=4) )"
   ]
  },
  {
   "cell_type": "markdown",
   "metadata": {
    "colab_type": "text",
    "id": "CGkBcOr8nRXl",
    "slideshow": {
     "slide_type": "slide"
    }
   },
   "source": [
    "Note that due to a quirk in the API, it typically returns all calibration values for an instrument, not all of which are relevant for the specific deployment you may be interested in. This is a known issue and there is a ticket for the software developers to work on a fix.\n",
    "\n",
    "Let's pull out the unique sensor IDs for this deployment."
   ]
  },
  {
   "cell_type": "code",
   "execution_count": 38,
   "metadata": {
    "colab": {
     "autoexec": {
      "startup": false,
      "wait_interval": 0
     },
     "base_uri": "https://localhost:8080/",
     "height": 53
    },
    "colab_type": "code",
    "executionInfo": {
     "elapsed": 290,
     "status": "ok",
     "timestamp": 1528313342200,
     "user": {
      "displayName": "Sage Lichtenwalner",
      "photoUrl": "https://lh3.googleusercontent.com/a/default-user=s128",
      "userId": "107661401208389246829"
     },
     "user_tz": 240
    },
    "id": "yyG-NScZno2K",
    "outputId": "de0e701f-8b00-445b-86de-a8788ebe9749"
   },
   "outputs": [
    {
     "name": "stdout",
     "output_type": "stream",
     "text": [
      "CGINS-CTDMOG-13422\n",
      "2840\n"
     ]
    }
   ],
   "source": [
    "print( data[0]['sensor']['uid'] )\n",
    "print( data[0]['sensor']['assetId'] )"
   ]
  },
  {
   "cell_type": "markdown",
   "metadata": {
    "colab_type": "text",
    "id": "EhjOwwJ8PD0L",
    "slideshow": {
     "slide_type": "slide"
    }
   },
   "source": [
    "# Asset Information\n",
    "\n",
    "OOI Reference Designators denote a specific measurement location in the OOI, for example the 30m CTD at the Papa Flanking Mooring B location.  But over time, measurements made at this \"instrument location\" are actually made by multiple instruments.  Each of those would have a specific Make, Model, and unique Serial Number.  We call these \"assets\" in the OOI system.\n",
    "\n",
    "You can use the Asset API endpoint to query information about a specific asset, once you kow either it's ID or UID.  In the above example, we extracted both to find out the unique sensor used during a specific deployment."
   ]
  },
  {
   "cell_type": "code",
   "execution_count": 39,
   "metadata": {
    "colab": {
     "autoexec": {
      "startup": false,
      "wait_interval": 0
     }
    },
    "colab_type": "code",
    "id": "GGGPDW3zpMJR",
    "slideshow": {
     "slide_type": "slide"
    }
   },
   "outputs": [],
   "source": [
    "# Request Asset Information by UID\n",
    "ASSET_BASE_URL = 'https://ooinet.oceanobservatories.org/api/m2m/12587/asset'\n",
    "request_url = ASSET_BASE_URL+'?uid=CGINS-CTDMOG-13422'\n",
    "r = requests.get(request_url, auth=(USERNAME, TOKEN))\n",
    "data = r.json()\n",
    "# print( json.dumps(data, indent=4) )"
   ]
  },
  {
   "cell_type": "markdown",
   "metadata": {
    "colab_type": "text",
    "id": "l_OmdtAUptvG",
    "slideshow": {
     "slide_type": "slide"
    }
   },
   "source": [
    "This returns essentially the same information that was embedded in the deployment information request above, including sensor calibration information.\n",
    "\n",
    "We can also find out where this particular asset was deployed over time."
   ]
  },
  {
   "cell_type": "code",
   "execution_count": 40,
   "metadata": {
    "colab": {
     "autoexec": {
      "startup": false,
      "wait_interval": 0
     },
     "base_uri": "https://localhost:8080/",
     "height": 204
    },
    "colab_type": "code",
    "executionInfo": {
     "elapsed": 619,
     "status": "ok",
     "timestamp": 1528313345802,
     "user": {
      "displayName": "Sage Lichtenwalner",
      "photoUrl": "https://lh3.googleusercontent.com/a/default-user=s128",
      "userId": "107661401208389246829"
     },
     "user_tz": 240
    },
    "id": "5GbEEgNLp_bV",
    "outputId": "d0616e2f-396f-446a-de0e-eac40345d360",
    "slideshow": {
     "slide_type": "slide"
    }
   },
   "outputs": [
    {
     "data": {
      "text/html": [
       "<div>\n",
       "<style scoped>\n",
       "    .dataframe tbody tr th:only-of-type {\n",
       "        vertical-align: middle;\n",
       "    }\n",
       "\n",
       "    .dataframe tbody tr th {\n",
       "        vertical-align: top;\n",
       "    }\n",
       "\n",
       "    .dataframe thead th {\n",
       "        text-align: right;\n",
       "    }\n",
       "</style>\n",
       "<table border=\"1\" class=\"dataframe\">\n",
       "  <thead>\n",
       "    <tr style=\"text-align: right;\">\n",
       "      <th></th>\n",
       "      <th>deployCruiseIdentifier</th>\n",
       "      <th>deploymentNumber</th>\n",
       "      <th>depth</th>\n",
       "      <th>editPhase</th>\n",
       "      <th>endTime</th>\n",
       "      <th>eventId</th>\n",
       "      <th>latitude</th>\n",
       "      <th>longitude</th>\n",
       "      <th>mooring_uid</th>\n",
       "      <th>node</th>\n",
       "      <th>node_uid</th>\n",
       "      <th>orbitRadius</th>\n",
       "      <th>recoverCruiseIdentifier</th>\n",
       "      <th>sensor</th>\n",
       "      <th>sensor_uid</th>\n",
       "      <th>startTime</th>\n",
       "      <th>subsite</th>\n",
       "      <th>versionNumber</th>\n",
       "      <th>waterDepth</th>\n",
       "    </tr>\n",
       "  </thead>\n",
       "  <tbody>\n",
       "    <tr>\n",
       "      <th>0</th>\n",
       "      <td>AT-30-01</td>\n",
       "      <td>2</td>\n",
       "      <td>90.0</td>\n",
       "      <td>OPERATIONAL</td>\n",
       "      <td>1.468714e+12</td>\n",
       "      <td>2296</td>\n",
       "      <td>59.77067</td>\n",
       "      <td>-39.880100</td>\n",
       "      <td>CGMGI-03FLMA-00002</td>\n",
       "      <td>RIM01</td>\n",
       "      <td>None</td>\n",
       "      <td>None</td>\n",
       "      <td>AR-07-01</td>\n",
       "      <td>02-CTDMOG043</td>\n",
       "      <td>CGINS-CTDMOG-13422</td>\n",
       "      <td>1439941680000</td>\n",
       "      <td>GI03FLMA</td>\n",
       "      <td>1</td>\n",
       "      <td>2689.0</td>\n",
       "    </tr>\n",
       "    <tr>\n",
       "      <th>1</th>\n",
       "      <td>SR17-10</td>\n",
       "      <td>5</td>\n",
       "      <td>NaN</td>\n",
       "      <td>OPERATIONAL</td>\n",
       "      <td>NaN</td>\n",
       "      <td>3627</td>\n",
       "      <td>50.37768</td>\n",
       "      <td>-144.514867</td>\n",
       "      <td>CGMGP-03FLMB-00005</td>\n",
       "      <td>RIM01</td>\n",
       "      <td>None</td>\n",
       "      <td>None</td>\n",
       "      <td>None</td>\n",
       "      <td>02-CTDMOG060</td>\n",
       "      <td>CGINS-CTDMOG-13422</td>\n",
       "      <td>1500072540000</td>\n",
       "      <td>GP03FLMB</td>\n",
       "      <td>1</td>\n",
       "      <td>4169.0</td>\n",
       "    </tr>\n",
       "  </tbody>\n",
       "</table>\n",
       "</div>"
      ],
      "text/plain": [
       "  deployCruiseIdentifier  deploymentNumber  depth    editPhase       endTime  \\\n",
       "0               AT-30-01                 2   90.0  OPERATIONAL  1.468714e+12   \n",
       "1                SR17-10                 5    NaN  OPERATIONAL           NaN   \n",
       "\n",
       "   eventId  latitude   longitude         mooring_uid   node node_uid  \\\n",
       "0     2296  59.77067  -39.880100  CGMGI-03FLMA-00002  RIM01     None   \n",
       "1     3627  50.37768 -144.514867  CGMGP-03FLMB-00005  RIM01     None   \n",
       "\n",
       "  orbitRadius recoverCruiseIdentifier        sensor          sensor_uid  \\\n",
       "0        None                AR-07-01  02-CTDMOG043  CGINS-CTDMOG-13422   \n",
       "1        None                    None  02-CTDMOG060  CGINS-CTDMOG-13422   \n",
       "\n",
       "       startTime   subsite  versionNumber  waterDepth  \n",
       "0  1439941680000  GI03FLMA              1      2689.0  \n",
       "1  1500072540000  GP03FLMB              1      4169.0  "
      ]
     },
     "execution_count": 40,
     "metadata": {},
     "output_type": "execute_result"
    }
   ],
   "source": [
    "# Get deployment digests by the unique asset identifier (UID).\n",
    "ASSET_BASE_URL = 'https://ooinet.oceanobservatories.org/api/m2m/12587/asset'\n",
    "request_url = ASSET_BASE_URL+'/deployments/CGINS-CTDMOG-13422'\n",
    "r = requests.get(request_url, auth=(USERNAME, TOKEN))\n",
    "data = r.json()\n",
    "\n",
    "# print( json.dumps(data, indent=4) )\n",
    "pd.DataFrame(data)"
   ]
  },
  {
   "cell_type": "markdown",
   "metadata": {
    "colab_type": "text",
    "id": "Q6TjBzia0BvM",
    "slideshow": {
     "slide_type": "slide"
    }
   },
   "source": [
    "In this case, we see that this particular instrument has been deployed twice.  Once at Global Irminger (deployment 2 of that site) and a second time at Global Papa (deployment 5)."
   ]
  },
  {
   "cell_type": "markdown",
   "metadata": {
    "colab_type": "text",
    "id": "DCPRhI1PaLy7",
    "slideshow": {
     "slide_type": "slide"
    }
   },
   "source": [
    "# Calibration Information\n",
    "\n",
    "As we've seen above, a number of API endpoints provide calibration information, including the Sensor, Deployments and Asset ones.  We could also use the following Asset endpoint to search for sensor calibrations for a particular reference designator."
   ]
  },
  {
   "cell_type": "code",
   "execution_count": 41,
   "metadata": {
    "colab": {
     "autoexec": {
      "startup": false,
      "wait_interval": 0
     }
    },
    "colab_type": "code",
    "id": "fgFcwYuA5WXr",
    "slideshow": {
     "slide_type": "fragment"
    }
   },
   "outputs": [],
   "source": [
    "# Simple time conversion function\n",
    "def convert_time(ms):\n",
    "  if ms != None:\n",
    "    return datetime.datetime.utcfromtimestamp(ms/1000)\n",
    "  else:\n",
    "    return None"
   ]
  },
  {
   "cell_type": "code",
   "execution_count": 42,
   "metadata": {
    "colab": {
     "autoexec": {
      "startup": false,
      "wait_interval": 0
     },
     "base_uri": "https://localhost:8080/",
     "height": 513
    },
    "colab_type": "code",
    "executionInfo": {
     "elapsed": 888,
     "status": "ok",
     "timestamp": 1528313348886,
     "user": {
      "displayName": "Sage Lichtenwalner",
      "photoUrl": "https://lh3.googleusercontent.com/a/default-user=s128",
      "userId": "107661401208389246829"
     },
     "user_tz": 240
    },
    "id": "aYhsvni1s0kk",
    "outputId": "b10d4c68-e099-43d1-f6e3-a39e70f80fe1",
    "slideshow": {
     "slide_type": "slide"
    }
   },
   "outputs": [
    {
     "data": {
      "text/html": [
       "<div>\n",
       "<style scoped>\n",
       "    .dataframe tbody tr th:only-of-type {\n",
       "        vertical-align: middle;\n",
       "    }\n",
       "\n",
       "    .dataframe tbody tr th {\n",
       "        vertical-align: top;\n",
       "    }\n",
       "\n",
       "    .dataframe thead th {\n",
       "        text-align: right;\n",
       "    }\n",
       "</style>\n",
       "<table border=\"1\" class=\"dataframe\">\n",
       "  <thead>\n",
       "    <tr style=\"text-align: right;\">\n",
       "      <th></th>\n",
       "      <th>@class</th>\n",
       "      <th>assetUid</th>\n",
       "      <th>dataSource</th>\n",
       "      <th>deployCruiseInfo</th>\n",
       "      <th>deployedBy</th>\n",
       "      <th>deploymentNumber</th>\n",
       "      <th>editPhase</th>\n",
       "      <th>eventId</th>\n",
       "      <th>eventName</th>\n",
       "      <th>eventStartTime</th>\n",
       "      <th>...</th>\n",
       "      <th>mooring</th>\n",
       "      <th>node</th>\n",
       "      <th>notes</th>\n",
       "      <th>recoverCruiseInfo</th>\n",
       "      <th>recoveredBy</th>\n",
       "      <th>referenceDesignator</th>\n",
       "      <th>sensor</th>\n",
       "      <th>tense</th>\n",
       "      <th>versionNumber</th>\n",
       "      <th>waterDepth</th>\n",
       "    </tr>\n",
       "  </thead>\n",
       "  <tbody>\n",
       "    <tr>\n",
       "      <th>0</th>\n",
       "      <td>.XDeployment</td>\n",
       "      <td>None</td>\n",
       "      <td>Load from [GP03FLMB_Deploy.xlsx]</td>\n",
       "      <td>{'@class': '.CruiseInfo', 'uniqueCruiseIdentif...</td>\n",
       "      <td>None</td>\n",
       "      <td>1</td>\n",
       "      <td>OPERATIONAL</td>\n",
       "      <td>3555</td>\n",
       "      <td>GP03FLMB-RIM01-02-CTDMOG060</td>\n",
       "      <td>1374647520000</td>\n",
       "      <td>...</td>\n",
       "      <td>{'@class': '.XMooring', 'remoteResources': [],...</td>\n",
       "      <td>None</td>\n",
       "      <td>None</td>\n",
       "      <td>{'@class': '.CruiseInfo', 'uniqueCruiseIdentif...</td>\n",
       "      <td>None</td>\n",
       "      <td>GP03FLMB-RIM01-02-CTDMOG060</td>\n",
       "      <td>{'@class': '.XInstrument', 'calibration': [{'@...</td>\n",
       "      <td>UNKNOWN</td>\n",
       "      <td>1</td>\n",
       "      <td>4145.0</td>\n",
       "    </tr>\n",
       "    <tr>\n",
       "      <th>1</th>\n",
       "      <td>.XDeployment</td>\n",
       "      <td>None</td>\n",
       "      <td>Load from [GP03FLMB_Deploy.xlsx]</td>\n",
       "      <td>{'@class': '.CruiseInfo', 'uniqueCruiseIdentif...</td>\n",
       "      <td>None</td>\n",
       "      <td>2</td>\n",
       "      <td>OPERATIONAL</td>\n",
       "      <td>3573</td>\n",
       "      <td>GP03FLMB-RIM01-02-CTDMOG060</td>\n",
       "      <td>1403229600000</td>\n",
       "      <td>...</td>\n",
       "      <td>{'@class': '.XMooring', 'remoteResources': [],...</td>\n",
       "      <td>None</td>\n",
       "      <td>None</td>\n",
       "      <td>{'@class': '.CruiseInfo', 'uniqueCruiseIdentif...</td>\n",
       "      <td>None</td>\n",
       "      <td>GP03FLMB-RIM01-02-CTDMOG060</td>\n",
       "      <td>{'@class': '.XInstrument', 'calibration': [{'@...</td>\n",
       "      <td>UNKNOWN</td>\n",
       "      <td>1</td>\n",
       "      <td>4145.0</td>\n",
       "    </tr>\n",
       "    <tr>\n",
       "      <th>2</th>\n",
       "      <td>.XDeployment</td>\n",
       "      <td>None</td>\n",
       "      <td>Load from [GP03FLMB_Deploy.xlsx]</td>\n",
       "      <td>{'@class': '.CruiseInfo', 'uniqueCruiseIdentif...</td>\n",
       "      <td>None</td>\n",
       "      <td>3</td>\n",
       "      <td>OPERATIONAL</td>\n",
       "      <td>3591</td>\n",
       "      <td>GP03FLMB-RIM01-02-CTDMOG060</td>\n",
       "      <td>1433798700000</td>\n",
       "      <td>...</td>\n",
       "      <td>{'@class': '.XMooring', 'remoteResources': [],...</td>\n",
       "      <td>None</td>\n",
       "      <td>None</td>\n",
       "      <td>{'@class': '.CruiseInfo', 'uniqueCruiseIdentif...</td>\n",
       "      <td>None</td>\n",
       "      <td>GP03FLMB-RIM01-02-CTDMOG060</td>\n",
       "      <td>{'@class': '.XInstrument', 'calibration': [{'@...</td>\n",
       "      <td>UNKNOWN</td>\n",
       "      <td>1</td>\n",
       "      <td>4145.0</td>\n",
       "    </tr>\n",
       "    <tr>\n",
       "      <th>3</th>\n",
       "      <td>.XDeployment</td>\n",
       "      <td>None</td>\n",
       "      <td>Load from [GP03FLMB_Deploy.xlsx]</td>\n",
       "      <td>{'@class': '.CruiseInfo', 'uniqueCruiseIdentif...</td>\n",
       "      <td>None</td>\n",
       "      <td>4</td>\n",
       "      <td>OPERATIONAL</td>\n",
       "      <td>3609</td>\n",
       "      <td>GP03FLMB-RIM01-02-CTDMOG060</td>\n",
       "      <td>1467673620000</td>\n",
       "      <td>...</td>\n",
       "      <td>{'@class': '.XMooring', 'remoteResources': [],...</td>\n",
       "      <td>None</td>\n",
       "      <td>None</td>\n",
       "      <td>{'@class': '.CruiseInfo', 'uniqueCruiseIdentif...</td>\n",
       "      <td>None</td>\n",
       "      <td>GP03FLMB-RIM01-02-CTDMOG060</td>\n",
       "      <td>{'@class': '.XInstrument', 'calibration': [{'@...</td>\n",
       "      <td>UNKNOWN</td>\n",
       "      <td>1</td>\n",
       "      <td>4146.0</td>\n",
       "    </tr>\n",
       "    <tr>\n",
       "      <th>4</th>\n",
       "      <td>.XDeployment</td>\n",
       "      <td>None</td>\n",
       "      <td>Load from [GP03FLMB_Deploy.xlsx]</td>\n",
       "      <td>{'@class': '.CruiseInfo', 'uniqueCruiseIdentif...</td>\n",
       "      <td>None</td>\n",
       "      <td>5</td>\n",
       "      <td>OPERATIONAL</td>\n",
       "      <td>3627</td>\n",
       "      <td>GP03FLMB-RIM01-02-CTDMOG060</td>\n",
       "      <td>1500072540000</td>\n",
       "      <td>...</td>\n",
       "      <td>{'@class': '.XMooring', 'remoteResources': [],...</td>\n",
       "      <td>None</td>\n",
       "      <td>None</td>\n",
       "      <td>None</td>\n",
       "      <td>None</td>\n",
       "      <td>GP03FLMB-RIM01-02-CTDMOG060</td>\n",
       "      <td>{'@class': '.XInstrument', 'calibration': [{'@...</td>\n",
       "      <td>UNKNOWN</td>\n",
       "      <td>1</td>\n",
       "      <td>4169.0</td>\n",
       "    </tr>\n",
       "  </tbody>\n",
       "</table>\n",
       "<p>5 rows × 26 columns</p>\n",
       "</div>"
      ],
      "text/plain": [
       "         @class assetUid                        dataSource  \\\n",
       "0  .XDeployment     None  Load from [GP03FLMB_Deploy.xlsx]   \n",
       "1  .XDeployment     None  Load from [GP03FLMB_Deploy.xlsx]   \n",
       "2  .XDeployment     None  Load from [GP03FLMB_Deploy.xlsx]   \n",
       "3  .XDeployment     None  Load from [GP03FLMB_Deploy.xlsx]   \n",
       "4  .XDeployment     None  Load from [GP03FLMB_Deploy.xlsx]   \n",
       "\n",
       "                                    deployCruiseInfo deployedBy  \\\n",
       "0  {'@class': '.CruiseInfo', 'uniqueCruiseIdentif...       None   \n",
       "1  {'@class': '.CruiseInfo', 'uniqueCruiseIdentif...       None   \n",
       "2  {'@class': '.CruiseInfo', 'uniqueCruiseIdentif...       None   \n",
       "3  {'@class': '.CruiseInfo', 'uniqueCruiseIdentif...       None   \n",
       "4  {'@class': '.CruiseInfo', 'uniqueCruiseIdentif...       None   \n",
       "\n",
       "   deploymentNumber    editPhase  eventId                    eventName  \\\n",
       "0                 1  OPERATIONAL     3555  GP03FLMB-RIM01-02-CTDMOG060   \n",
       "1                 2  OPERATIONAL     3573  GP03FLMB-RIM01-02-CTDMOG060   \n",
       "2                 3  OPERATIONAL     3591  GP03FLMB-RIM01-02-CTDMOG060   \n",
       "3                 4  OPERATIONAL     3609  GP03FLMB-RIM01-02-CTDMOG060   \n",
       "4                 5  OPERATIONAL     3627  GP03FLMB-RIM01-02-CTDMOG060   \n",
       "\n",
       "   eventStartTime    ...      \\\n",
       "0   1374647520000    ...       \n",
       "1   1403229600000    ...       \n",
       "2   1433798700000    ...       \n",
       "3   1467673620000    ...       \n",
       "4   1500072540000    ...       \n",
       "\n",
       "                                             mooring  node notes  \\\n",
       "0  {'@class': '.XMooring', 'remoteResources': [],...  None  None   \n",
       "1  {'@class': '.XMooring', 'remoteResources': [],...  None  None   \n",
       "2  {'@class': '.XMooring', 'remoteResources': [],...  None  None   \n",
       "3  {'@class': '.XMooring', 'remoteResources': [],...  None  None   \n",
       "4  {'@class': '.XMooring', 'remoteResources': [],...  None  None   \n",
       "\n",
       "                                   recoverCruiseInfo  recoveredBy  \\\n",
       "0  {'@class': '.CruiseInfo', 'uniqueCruiseIdentif...         None   \n",
       "1  {'@class': '.CruiseInfo', 'uniqueCruiseIdentif...         None   \n",
       "2  {'@class': '.CruiseInfo', 'uniqueCruiseIdentif...         None   \n",
       "3  {'@class': '.CruiseInfo', 'uniqueCruiseIdentif...         None   \n",
       "4                                               None         None   \n",
       "\n",
       "           referenceDesignator  \\\n",
       "0  GP03FLMB-RIM01-02-CTDMOG060   \n",
       "1  GP03FLMB-RIM01-02-CTDMOG060   \n",
       "2  GP03FLMB-RIM01-02-CTDMOG060   \n",
       "3  GP03FLMB-RIM01-02-CTDMOG060   \n",
       "4  GP03FLMB-RIM01-02-CTDMOG060   \n",
       "\n",
       "                                              sensor    tense versionNumber  \\\n",
       "0  {'@class': '.XInstrument', 'calibration': [{'@...  UNKNOWN             1   \n",
       "1  {'@class': '.XInstrument', 'calibration': [{'@...  UNKNOWN             1   \n",
       "2  {'@class': '.XInstrument', 'calibration': [{'@...  UNKNOWN             1   \n",
       "3  {'@class': '.XInstrument', 'calibration': [{'@...  UNKNOWN             1   \n",
       "4  {'@class': '.XInstrument', 'calibration': [{'@...  UNKNOWN             1   \n",
       "\n",
       "  waterDepth  \n",
       "0     4145.0  \n",
       "1     4145.0  \n",
       "2     4145.0  \n",
       "3     4146.0  \n",
       "4     4169.0  \n",
       "\n",
       "[5 rows x 26 columns]"
      ]
     },
     "execution_count": 42,
     "metadata": {},
     "output_type": "execute_result"
    }
   ],
   "source": [
    "# Get deployment digests by the unique asset identifier (UID).\n",
    "ASSET_BASE_URL = 'https://ooinet.oceanobservatories.org/api/m2m/12587/asset'\n",
    "request_url = ASSET_BASE_URL+'/cal?refdes=GP03FLMB-RIM01-02-CTDMOG060'\n",
    "\n",
    "r = requests.get(request_url, auth=(USERNAME, TOKEN))\n",
    "data = r.json()\n",
    "\n",
    "# print( json.dumps(data, indent=4) )\n",
    "# data[4]\n",
    "pd.DataFrame(data)"
   ]
  },
  {
   "cell_type": "code",
   "execution_count": 43,
   "metadata": {
    "colab": {
     "autoexec": {
      "startup": false,
      "wait_interval": 0
     },
     "base_uri": "https://localhost:8080/",
     "height": 1969
    },
    "colab_type": "code",
    "executionInfo": {
     "elapsed": 1159,
     "status": "ok",
     "timestamp": 1528313350086,
     "user": {
      "displayName": "Sage Lichtenwalner",
      "photoUrl": "https://lh3.googleusercontent.com/a/default-user=s128",
      "userId": "107661401208389246829"
     },
     "user_tz": 240
    },
    "id": "Mw5SqBqz5zAo",
    "outputId": "b4778268-1111-449a-dfe0-79290a12ab72",
    "slideshow": {
     "slide_type": "slide"
    }
   },
   "outputs": [
    {
     "data": {
      "text/html": [
       "<div>\n",
       "<style scoped>\n",
       "    .dataframe tbody tr th:only-of-type {\n",
       "        vertical-align: middle;\n",
       "    }\n",
       "\n",
       "    .dataframe tbody tr th {\n",
       "        vertical-align: top;\n",
       "    }\n",
       "\n",
       "    .dataframe thead th {\n",
       "        text-align: right;\n",
       "    }\n",
       "</style>\n",
       "<table border=\"1\" class=\"dataframe\">\n",
       "  <thead>\n",
       "    <tr style=\"text-align: right;\">\n",
       "      <th></th>\n",
       "      <th>assetUid</th>\n",
       "      <th>name</th>\n",
       "      <th>start</th>\n",
       "      <th>stop</th>\n",
       "      <th>value</th>\n",
       "    </tr>\n",
       "  </thead>\n",
       "  <tbody>\n",
       "    <tr>\n",
       "      <th>0</th>\n",
       "      <td>CGINS-CTDMOG-10255</td>\n",
       "      <td>CC_a0</td>\n",
       "      <td>2012-12-11</td>\n",
       "      <td>None</td>\n",
       "      <td>-1.546605e-04</td>\n",
       "    </tr>\n",
       "    <tr>\n",
       "      <th>193</th>\n",
       "      <td>CGINS-CTDMOG-11638</td>\n",
       "      <td>CC_a0</td>\n",
       "      <td>2016-07-04</td>\n",
       "      <td>None</td>\n",
       "      <td>-1.041285e-04</td>\n",
       "    </tr>\n",
       "    <tr>\n",
       "      <th>192</th>\n",
       "      <td>CGINS-CTDMOG-11638</td>\n",
       "      <td>CC_a0</td>\n",
       "      <td>2014-06-20</td>\n",
       "      <td>None</td>\n",
       "      <td>-7.357588e-05</td>\n",
       "    </tr>\n",
       "    <tr>\n",
       "      <th>72</th>\n",
       "      <td>CGINS-CTDMOG-11646</td>\n",
       "      <td>CC_a0</td>\n",
       "      <td>2017-11-21</td>\n",
       "      <td>None</td>\n",
       "      <td>-8.245547e-05</td>\n",
       "    </tr>\n",
       "    <tr>\n",
       "      <th>73</th>\n",
       "      <td>CGINS-CTDMOG-11646</td>\n",
       "      <td>CC_a0</td>\n",
       "      <td>2014-06-20</td>\n",
       "      <td>None</td>\n",
       "      <td>-1.166783e-04</td>\n",
       "    </tr>\n",
       "    <tr>\n",
       "      <th>74</th>\n",
       "      <td>CGINS-CTDMOG-11646</td>\n",
       "      <td>CC_a0</td>\n",
       "      <td>2016-07-11</td>\n",
       "      <td>None</td>\n",
       "      <td>-8.666183e-05</td>\n",
       "    </tr>\n",
       "    <tr>\n",
       "      <th>264</th>\n",
       "      <td>CGINS-CTDMOG-13422</td>\n",
       "      <td>CC_a0</td>\n",
       "      <td>2016-10-15</td>\n",
       "      <td>None</td>\n",
       "      <td>-1.724387e-04</td>\n",
       "    </tr>\n",
       "    <tr>\n",
       "      <th>265</th>\n",
       "      <td>CGINS-CTDMOG-13422</td>\n",
       "      <td>CC_a0</td>\n",
       "      <td>2015-08-18</td>\n",
       "      <td>None</td>\n",
       "      <td>-1.337706e-04</td>\n",
       "    </tr>\n",
       "    <tr>\n",
       "      <th>194</th>\n",
       "      <td>CGINS-CTDMOG-11638</td>\n",
       "      <td>CC_a0</td>\n",
       "      <td>2017-09-01</td>\n",
       "      <td>None</td>\n",
       "      <td>-8.046998e-05</td>\n",
       "    </tr>\n",
       "    <tr>\n",
       "      <th>2</th>\n",
       "      <td>CGINS-CTDMOG-10255</td>\n",
       "      <td>CC_a0</td>\n",
       "      <td>2015-11-10</td>\n",
       "      <td>None</td>\n",
       "      <td>-1.314068e-04</td>\n",
       "    </tr>\n",
       "    <tr>\n",
       "      <th>145</th>\n",
       "      <td>CGINS-CTDMOG-12638</td>\n",
       "      <td>CC_a0</td>\n",
       "      <td>2016-09-21</td>\n",
       "      <td>None</td>\n",
       "      <td>-8.597695e-05</td>\n",
       "    </tr>\n",
       "    <tr>\n",
       "      <th>144</th>\n",
       "      <td>CGINS-CTDMOG-12638</td>\n",
       "      <td>CC_a0</td>\n",
       "      <td>2015-06-08</td>\n",
       "      <td>None</td>\n",
       "      <td>-1.153096e-04</td>\n",
       "    </tr>\n",
       "    <tr>\n",
       "      <th>1</th>\n",
       "      <td>CGINS-CTDMOG-10255</td>\n",
       "      <td>CC_a0</td>\n",
       "      <td>2017-09-06</td>\n",
       "      <td>None</td>\n",
       "      <td>-1.158514e-04</td>\n",
       "    </tr>\n",
       "    <tr>\n",
       "      <th>28</th>\n",
       "      <td>CGINS-CTDMOG-10255</td>\n",
       "      <td>CC_a1</td>\n",
       "      <td>2015-11-10</td>\n",
       "      <td>None</td>\n",
       "      <td>3.106929e-04</td>\n",
       "    </tr>\n",
       "    <tr>\n",
       "      <th>100</th>\n",
       "      <td>CGINS-CTDMOG-11646</td>\n",
       "      <td>CC_a1</td>\n",
       "      <td>2016-07-11</td>\n",
       "      <td>None</td>\n",
       "      <td>3.015715e-04</td>\n",
       "    </tr>\n",
       "    <tr>\n",
       "      <th>101</th>\n",
       "      <td>CGINS-CTDMOG-11646</td>\n",
       "      <td>CC_a1</td>\n",
       "      <td>2017-11-21</td>\n",
       "      <td>None</td>\n",
       "      <td>3.003766e-04</td>\n",
       "    </tr>\n",
       "    <tr>\n",
       "      <th>162</th>\n",
       "      <td>CGINS-CTDMOG-12638</td>\n",
       "      <td>CC_a1</td>\n",
       "      <td>2015-06-08</td>\n",
       "      <td>None</td>\n",
       "      <td>3.064611e-04</td>\n",
       "    </tr>\n",
       "    <tr>\n",
       "      <th>163</th>\n",
       "      <td>CGINS-CTDMOG-12638</td>\n",
       "      <td>CC_a1</td>\n",
       "      <td>2016-09-21</td>\n",
       "      <td>None</td>\n",
       "      <td>2.994633e-04</td>\n",
       "    </tr>\n",
       "    <tr>\n",
       "      <th>29</th>\n",
       "      <td>CGINS-CTDMOG-10255</td>\n",
       "      <td>CC_a1</td>\n",
       "      <td>2017-09-06</td>\n",
       "      <td>None</td>\n",
       "      <td>3.066937e-04</td>\n",
       "    </tr>\n",
       "    <tr>\n",
       "      <th>27</th>\n",
       "      <td>CGINS-CTDMOG-10255</td>\n",
       "      <td>CC_a1</td>\n",
       "      <td>2012-12-11</td>\n",
       "      <td>None</td>\n",
       "      <td>3.162308e-04</td>\n",
       "    </tr>\n",
       "    <tr>\n",
       "      <th>220</th>\n",
       "      <td>CGINS-CTDMOG-11638</td>\n",
       "      <td>CC_a1</td>\n",
       "      <td>2016-07-04</td>\n",
       "      <td>None</td>\n",
       "      <td>3.070477e-04</td>\n",
       "    </tr>\n",
       "    <tr>\n",
       "      <th>219</th>\n",
       "      <td>CGINS-CTDMOG-11638</td>\n",
       "      <td>CC_a1</td>\n",
       "      <td>2017-09-01</td>\n",
       "      <td>None</td>\n",
       "      <td>3.012959e-04</td>\n",
       "    </tr>\n",
       "    <tr>\n",
       "      <th>282</th>\n",
       "      <td>CGINS-CTDMOG-13422</td>\n",
       "      <td>CC_a1</td>\n",
       "      <td>2015-08-18</td>\n",
       "      <td>None</td>\n",
       "      <td>3.024181e-04</td>\n",
       "    </tr>\n",
       "    <tr>\n",
       "      <th>283</th>\n",
       "      <td>CGINS-CTDMOG-13422</td>\n",
       "      <td>CC_a1</td>\n",
       "      <td>2016-10-15</td>\n",
       "      <td>None</td>\n",
       "      <td>3.113964e-04</td>\n",
       "    </tr>\n",
       "    <tr>\n",
       "      <th>221</th>\n",
       "      <td>CGINS-CTDMOG-11638</td>\n",
       "      <td>CC_a1</td>\n",
       "      <td>2014-06-20</td>\n",
       "      <td>None</td>\n",
       "      <td>2.998744e-04</td>\n",
       "    </tr>\n",
       "    <tr>\n",
       "      <th>99</th>\n",
       "      <td>CGINS-CTDMOG-11646</td>\n",
       "      <td>CC_a1</td>\n",
       "      <td>2014-06-20</td>\n",
       "      <td>None</td>\n",
       "      <td>3.086916e-04</td>\n",
       "    </tr>\n",
       "    <tr>\n",
       "      <th>215</th>\n",
       "      <td>CGINS-CTDMOG-11638</td>\n",
       "      <td>CC_a2</td>\n",
       "      <td>2014-06-20</td>\n",
       "      <td>None</td>\n",
       "      <td>-3.979843e-06</td>\n",
       "    </tr>\n",
       "    <tr>\n",
       "      <th>214</th>\n",
       "      <td>CGINS-CTDMOG-11638</td>\n",
       "      <td>CC_a2</td>\n",
       "      <td>2016-07-04</td>\n",
       "      <td>None</td>\n",
       "      <td>-4.541412e-06</td>\n",
       "    </tr>\n",
       "    <tr>\n",
       "      <th>213</th>\n",
       "      <td>CGINS-CTDMOG-11638</td>\n",
       "      <td>CC_a2</td>\n",
       "      <td>2017-09-01</td>\n",
       "      <td>None</td>\n",
       "      <td>-4.074699e-06</td>\n",
       "    </tr>\n",
       "    <tr>\n",
       "      <th>159</th>\n",
       "      <td>CGINS-CTDMOG-12638</td>\n",
       "      <td>CC_a2</td>\n",
       "      <td>2015-06-08</td>\n",
       "      <td>None</td>\n",
       "      <td>-4.333575e-06</td>\n",
       "    </tr>\n",
       "    <tr>\n",
       "      <th>...</th>\n",
       "      <td>...</td>\n",
       "      <td>...</td>\n",
       "      <td>...</td>\n",
       "      <td>...</td>\n",
       "      <td>...</td>\n",
       "    </tr>\n",
       "    <tr>\n",
       "      <th>34</th>\n",
       "      <td>CGINS-CTDMOG-10255</td>\n",
       "      <td>CC_ptempa1</td>\n",
       "      <td>2015-11-10</td>\n",
       "      <td>None</td>\n",
       "      <td>5.137354e-02</td>\n",
       "    </tr>\n",
       "    <tr>\n",
       "      <th>166</th>\n",
       "      <td>CGINS-CTDMOG-12638</td>\n",
       "      <td>CC_ptempa1</td>\n",
       "      <td>2016-09-21</td>\n",
       "      <td>None</td>\n",
       "      <td>5.269413e-02</td>\n",
       "    </tr>\n",
       "    <tr>\n",
       "      <th>167</th>\n",
       "      <td>CGINS-CTDMOG-12638</td>\n",
       "      <td>CC_ptempa1</td>\n",
       "      <td>2015-06-08</td>\n",
       "      <td>None</td>\n",
       "      <td>5.208854e-02</td>\n",
       "    </tr>\n",
       "    <tr>\n",
       "      <th>35</th>\n",
       "      <td>CGINS-CTDMOG-10255</td>\n",
       "      <td>CC_ptempa1</td>\n",
       "      <td>2017-09-06</td>\n",
       "      <td>None</td>\n",
       "      <td>5.156059e-02</td>\n",
       "    </tr>\n",
       "    <tr>\n",
       "      <th>31</th>\n",
       "      <td>CGINS-CTDMOG-10255</td>\n",
       "      <td>CC_ptempa2</td>\n",
       "      <td>2012-12-11</td>\n",
       "      <td>None</td>\n",
       "      <td>-5.100431e-07</td>\n",
       "    </tr>\n",
       "    <tr>\n",
       "      <th>30</th>\n",
       "      <td>CGINS-CTDMOG-10255</td>\n",
       "      <td>CC_ptempa2</td>\n",
       "      <td>2015-11-10</td>\n",
       "      <td>None</td>\n",
       "      <td>-4.461589e-07</td>\n",
       "    </tr>\n",
       "    <tr>\n",
       "      <th>104</th>\n",
       "      <td>CGINS-CTDMOG-11646</td>\n",
       "      <td>CC_ptempa2</td>\n",
       "      <td>2017-11-21</td>\n",
       "      <td>None</td>\n",
       "      <td>-7.424525e-07</td>\n",
       "    </tr>\n",
       "    <tr>\n",
       "      <th>223</th>\n",
       "      <td>CGINS-CTDMOG-11638</td>\n",
       "      <td>CC_ptempa2</td>\n",
       "      <td>2017-09-01</td>\n",
       "      <td>None</td>\n",
       "      <td>-5.049620e-07</td>\n",
       "    </tr>\n",
       "    <tr>\n",
       "      <th>103</th>\n",
       "      <td>CGINS-CTDMOG-11646</td>\n",
       "      <td>CC_ptempa2</td>\n",
       "      <td>2014-06-20</td>\n",
       "      <td>None</td>\n",
       "      <td>-4.024401e-07</td>\n",
       "    </tr>\n",
       "    <tr>\n",
       "      <th>224</th>\n",
       "      <td>CGINS-CTDMOG-11638</td>\n",
       "      <td>CC_ptempa2</td>\n",
       "      <td>2014-06-20</td>\n",
       "      <td>None</td>\n",
       "      <td>-4.462353e-07</td>\n",
       "    </tr>\n",
       "    <tr>\n",
       "      <th>222</th>\n",
       "      <td>CGINS-CTDMOG-11638</td>\n",
       "      <td>CC_ptempa2</td>\n",
       "      <td>2016-07-04</td>\n",
       "      <td>None</td>\n",
       "      <td>-7.288322e-07</td>\n",
       "    </tr>\n",
       "    <tr>\n",
       "      <th>102</th>\n",
       "      <td>CGINS-CTDMOG-11646</td>\n",
       "      <td>CC_ptempa2</td>\n",
       "      <td>2016-07-11</td>\n",
       "      <td>None</td>\n",
       "      <td>-4.635052e-07</td>\n",
       "    </tr>\n",
       "    <tr>\n",
       "      <th>284</th>\n",
       "      <td>CGINS-CTDMOG-13422</td>\n",
       "      <td>CC_ptempa2</td>\n",
       "      <td>2015-08-18</td>\n",
       "      <td>None</td>\n",
       "      <td>-1.159737e-06</td>\n",
       "    </tr>\n",
       "    <tr>\n",
       "      <th>285</th>\n",
       "      <td>CGINS-CTDMOG-13422</td>\n",
       "      <td>CC_ptempa2</td>\n",
       "      <td>2016-10-15</td>\n",
       "      <td>None</td>\n",
       "      <td>2.248582e-06</td>\n",
       "    </tr>\n",
       "    <tr>\n",
       "      <th>165</th>\n",
       "      <td>CGINS-CTDMOG-12638</td>\n",
       "      <td>CC_ptempa2</td>\n",
       "      <td>2015-06-08</td>\n",
       "      <td>None</td>\n",
       "      <td>-5.782849e-07</td>\n",
       "    </tr>\n",
       "    <tr>\n",
       "      <th>32</th>\n",
       "      <td>CGINS-CTDMOG-10255</td>\n",
       "      <td>CC_ptempa2</td>\n",
       "      <td>2017-09-06</td>\n",
       "      <td>None</td>\n",
       "      <td>-5.111036e-07</td>\n",
       "    </tr>\n",
       "    <tr>\n",
       "      <th>164</th>\n",
       "      <td>CGINS-CTDMOG-12638</td>\n",
       "      <td>CC_ptempa2</td>\n",
       "      <td>2016-09-21</td>\n",
       "      <td>None</td>\n",
       "      <td>-7.671162e-07</td>\n",
       "    </tr>\n",
       "    <tr>\n",
       "      <th>140</th>\n",
       "      <td>CGINS-CTDMOG-11646</td>\n",
       "      <td>CC_wbotc</td>\n",
       "      <td>2017-11-21</td>\n",
       "      <td>None</td>\n",
       "      <td>-6.782600e-08</td>\n",
       "    </tr>\n",
       "    <tr>\n",
       "      <th>139</th>\n",
       "      <td>CGINS-CTDMOG-11646</td>\n",
       "      <td>CC_wbotc</td>\n",
       "      <td>2014-06-20</td>\n",
       "      <td>None</td>\n",
       "      <td>-6.782600e-08</td>\n",
       "    </tr>\n",
       "    <tr>\n",
       "      <th>138</th>\n",
       "      <td>CGINS-CTDMOG-11646</td>\n",
       "      <td>CC_wbotc</td>\n",
       "      <td>2016-07-11</td>\n",
       "      <td>None</td>\n",
       "      <td>-6.782576e-08</td>\n",
       "    </tr>\n",
       "    <tr>\n",
       "      <th>187</th>\n",
       "      <td>CGINS-CTDMOG-12638</td>\n",
       "      <td>CC_wbotc</td>\n",
       "      <td>2015-06-08</td>\n",
       "      <td>None</td>\n",
       "      <td>2.283800e-07</td>\n",
       "    </tr>\n",
       "    <tr>\n",
       "      <th>186</th>\n",
       "      <td>CGINS-CTDMOG-12638</td>\n",
       "      <td>CC_wbotc</td>\n",
       "      <td>2016-09-21</td>\n",
       "      <td>None</td>\n",
       "      <td>2.283800e-07</td>\n",
       "    </tr>\n",
       "    <tr>\n",
       "      <th>260</th>\n",
       "      <td>CGINS-CTDMOG-11638</td>\n",
       "      <td>CC_wbotc</td>\n",
       "      <td>2014-06-20</td>\n",
       "      <td>None</td>\n",
       "      <td>-1.732000e-07</td>\n",
       "    </tr>\n",
       "    <tr>\n",
       "      <th>259</th>\n",
       "      <td>CGINS-CTDMOG-11638</td>\n",
       "      <td>CC_wbotc</td>\n",
       "      <td>2017-09-01</td>\n",
       "      <td>None</td>\n",
       "      <td>-1.732000e-07</td>\n",
       "    </tr>\n",
       "    <tr>\n",
       "      <th>258</th>\n",
       "      <td>CGINS-CTDMOG-11638</td>\n",
       "      <td>CC_wbotc</td>\n",
       "      <td>2016-07-04</td>\n",
       "      <td>None</td>\n",
       "      <td>-1.731956e-07</td>\n",
       "    </tr>\n",
       "    <tr>\n",
       "      <th>306</th>\n",
       "      <td>CGINS-CTDMOG-13422</td>\n",
       "      <td>CC_wbotc</td>\n",
       "      <td>2015-08-18</td>\n",
       "      <td>None</td>\n",
       "      <td>3.081500e-08</td>\n",
       "    </tr>\n",
       "    <tr>\n",
       "      <th>307</th>\n",
       "      <td>CGINS-CTDMOG-13422</td>\n",
       "      <td>CC_wbotc</td>\n",
       "      <td>2016-10-15</td>\n",
       "      <td>None</td>\n",
       "      <td>3.081500e-08</td>\n",
       "    </tr>\n",
       "    <tr>\n",
       "      <th>67</th>\n",
       "      <td>CGINS-CTDMOG-10255</td>\n",
       "      <td>CC_wbotc</td>\n",
       "      <td>2017-09-06</td>\n",
       "      <td>None</td>\n",
       "      <td>4.253800e-07</td>\n",
       "    </tr>\n",
       "    <tr>\n",
       "      <th>66</th>\n",
       "      <td>CGINS-CTDMOG-10255</td>\n",
       "      <td>CC_wbotc</td>\n",
       "      <td>2012-12-11</td>\n",
       "      <td>None</td>\n",
       "      <td>4.253800e-07</td>\n",
       "    </tr>\n",
       "    <tr>\n",
       "      <th>68</th>\n",
       "      <td>CGINS-CTDMOG-10255</td>\n",
       "      <td>CC_wbotc</td>\n",
       "      <td>2015-11-10</td>\n",
       "      <td>None</td>\n",
       "      <td>4.253800e-07</td>\n",
       "    </tr>\n",
       "  </tbody>\n",
       "</table>\n",
       "<p>312 rows × 5 columns</p>\n",
       "</div>"
      ],
      "text/plain": [
       "               assetUid        name      start  stop         value\n",
       "0    CGINS-CTDMOG-10255       CC_a0 2012-12-11  None -1.546605e-04\n",
       "193  CGINS-CTDMOG-11638       CC_a0 2016-07-04  None -1.041285e-04\n",
       "192  CGINS-CTDMOG-11638       CC_a0 2014-06-20  None -7.357588e-05\n",
       "72   CGINS-CTDMOG-11646       CC_a0 2017-11-21  None -8.245547e-05\n",
       "73   CGINS-CTDMOG-11646       CC_a0 2014-06-20  None -1.166783e-04\n",
       "74   CGINS-CTDMOG-11646       CC_a0 2016-07-11  None -8.666183e-05\n",
       "264  CGINS-CTDMOG-13422       CC_a0 2016-10-15  None -1.724387e-04\n",
       "265  CGINS-CTDMOG-13422       CC_a0 2015-08-18  None -1.337706e-04\n",
       "194  CGINS-CTDMOG-11638       CC_a0 2017-09-01  None -8.046998e-05\n",
       "2    CGINS-CTDMOG-10255       CC_a0 2015-11-10  None -1.314068e-04\n",
       "145  CGINS-CTDMOG-12638       CC_a0 2016-09-21  None -8.597695e-05\n",
       "144  CGINS-CTDMOG-12638       CC_a0 2015-06-08  None -1.153096e-04\n",
       "1    CGINS-CTDMOG-10255       CC_a0 2017-09-06  None -1.158514e-04\n",
       "28   CGINS-CTDMOG-10255       CC_a1 2015-11-10  None  3.106929e-04\n",
       "100  CGINS-CTDMOG-11646       CC_a1 2016-07-11  None  3.015715e-04\n",
       "101  CGINS-CTDMOG-11646       CC_a1 2017-11-21  None  3.003766e-04\n",
       "162  CGINS-CTDMOG-12638       CC_a1 2015-06-08  None  3.064611e-04\n",
       "163  CGINS-CTDMOG-12638       CC_a1 2016-09-21  None  2.994633e-04\n",
       "29   CGINS-CTDMOG-10255       CC_a1 2017-09-06  None  3.066937e-04\n",
       "27   CGINS-CTDMOG-10255       CC_a1 2012-12-11  None  3.162308e-04\n",
       "220  CGINS-CTDMOG-11638       CC_a1 2016-07-04  None  3.070477e-04\n",
       "219  CGINS-CTDMOG-11638       CC_a1 2017-09-01  None  3.012959e-04\n",
       "282  CGINS-CTDMOG-13422       CC_a1 2015-08-18  None  3.024181e-04\n",
       "283  CGINS-CTDMOG-13422       CC_a1 2016-10-15  None  3.113964e-04\n",
       "221  CGINS-CTDMOG-11638       CC_a1 2014-06-20  None  2.998744e-04\n",
       "99   CGINS-CTDMOG-11646       CC_a1 2014-06-20  None  3.086916e-04\n",
       "215  CGINS-CTDMOG-11638       CC_a2 2014-06-20  None -3.979843e-06\n",
       "214  CGINS-CTDMOG-11638       CC_a2 2016-07-04  None -4.541412e-06\n",
       "213  CGINS-CTDMOG-11638       CC_a2 2017-09-01  None -4.074699e-06\n",
       "159  CGINS-CTDMOG-12638       CC_a2 2015-06-08  None -4.333575e-06\n",
       "..                  ...         ...        ...   ...           ...\n",
       "34   CGINS-CTDMOG-10255  CC_ptempa1 2015-11-10  None  5.137354e-02\n",
       "166  CGINS-CTDMOG-12638  CC_ptempa1 2016-09-21  None  5.269413e-02\n",
       "167  CGINS-CTDMOG-12638  CC_ptempa1 2015-06-08  None  5.208854e-02\n",
       "35   CGINS-CTDMOG-10255  CC_ptempa1 2017-09-06  None  5.156059e-02\n",
       "31   CGINS-CTDMOG-10255  CC_ptempa2 2012-12-11  None -5.100431e-07\n",
       "30   CGINS-CTDMOG-10255  CC_ptempa2 2015-11-10  None -4.461589e-07\n",
       "104  CGINS-CTDMOG-11646  CC_ptempa2 2017-11-21  None -7.424525e-07\n",
       "223  CGINS-CTDMOG-11638  CC_ptempa2 2017-09-01  None -5.049620e-07\n",
       "103  CGINS-CTDMOG-11646  CC_ptempa2 2014-06-20  None -4.024401e-07\n",
       "224  CGINS-CTDMOG-11638  CC_ptempa2 2014-06-20  None -4.462353e-07\n",
       "222  CGINS-CTDMOG-11638  CC_ptempa2 2016-07-04  None -7.288322e-07\n",
       "102  CGINS-CTDMOG-11646  CC_ptempa2 2016-07-11  None -4.635052e-07\n",
       "284  CGINS-CTDMOG-13422  CC_ptempa2 2015-08-18  None -1.159737e-06\n",
       "285  CGINS-CTDMOG-13422  CC_ptempa2 2016-10-15  None  2.248582e-06\n",
       "165  CGINS-CTDMOG-12638  CC_ptempa2 2015-06-08  None -5.782849e-07\n",
       "32   CGINS-CTDMOG-10255  CC_ptempa2 2017-09-06  None -5.111036e-07\n",
       "164  CGINS-CTDMOG-12638  CC_ptempa2 2016-09-21  None -7.671162e-07\n",
       "140  CGINS-CTDMOG-11646    CC_wbotc 2017-11-21  None -6.782600e-08\n",
       "139  CGINS-CTDMOG-11646    CC_wbotc 2014-06-20  None -6.782600e-08\n",
       "138  CGINS-CTDMOG-11646    CC_wbotc 2016-07-11  None -6.782576e-08\n",
       "187  CGINS-CTDMOG-12638    CC_wbotc 2015-06-08  None  2.283800e-07\n",
       "186  CGINS-CTDMOG-12638    CC_wbotc 2016-09-21  None  2.283800e-07\n",
       "260  CGINS-CTDMOG-11638    CC_wbotc 2014-06-20  None -1.732000e-07\n",
       "259  CGINS-CTDMOG-11638    CC_wbotc 2017-09-01  None -1.732000e-07\n",
       "258  CGINS-CTDMOG-11638    CC_wbotc 2016-07-04  None -1.731956e-07\n",
       "306  CGINS-CTDMOG-13422    CC_wbotc 2015-08-18  None  3.081500e-08\n",
       "307  CGINS-CTDMOG-13422    CC_wbotc 2016-10-15  None  3.081500e-08\n",
       "67   CGINS-CTDMOG-10255    CC_wbotc 2017-09-06  None  4.253800e-07\n",
       "66   CGINS-CTDMOG-10255    CC_wbotc 2012-12-11  None  4.253800e-07\n",
       "68   CGINS-CTDMOG-10255    CC_wbotc 2015-11-10  None  4.253800e-07\n",
       "\n",
       "[312 rows x 5 columns]"
      ]
     },
     "execution_count": 43,
     "metadata": {},
     "output_type": "execute_result"
    }
   ],
   "source": [
    "# Reformat the data into a pretty table\n",
    "df = pd.DataFrame() # Setup empty array\n",
    "for d in data:\n",
    "  for dd in d['sensor']['calibration']:\n",
    "    for ddd in dd['calData']:\n",
    "      df = df.append({\n",
    "        'value': ddd['value'],\n",
    "        'start': convert_time(ddd['eventStartTime']),\n",
    "        'stop': convert_time(ddd['eventStopTime']),\n",
    "        'name': ddd['eventName'],\n",
    "        'assetUid': ddd['assetUid'],\n",
    "        }, ignore_index=True)\n",
    "    \n",
    "df = df.sort_values(by=['name'])\n",
    "df"
   ]
  },
  {
   "cell_type": "markdown",
   "metadata": {
    "colab_type": "text",
    "id": "gmvvZYFN0iEE",
    "slideshow": {
     "slide_type": "slide"
    }
   },
   "source": [
    "Unfortunately, it turns out that most of these endpoints are not ideal, because they return all of the available calibrations for an asset, and not just those used for the deployment we're interested in.  In the example above, there are only 5 deployments, but we found over a dozen calibration sets.\n",
    "\n",
    "The system uses the calibration values that are closest in time but before the deployment start date.  So really, for any given deployment, all we need to do is find the calibrations for that asset that occurred just prior to the deployment (though, this could be 6 months or more earlier).\n",
    "\n",
    "Note also, that calibrations do not have an end date.  It is assumed they are valid until the next calibration for the specific asset. \n",
    "\n",
    "As an alternative, we can use the following request to retrieve the calibration values that were used by the system to process data on any given day (which should theoretically be the same across a given deployment).  If you keep the date range within one deployment, you should only get one set of calibration values."
   ]
  },
  {
   "cell_type": "code",
   "execution_count": 44,
   "metadata": {
    "colab": {
     "autoexec": {
      "startup": false,
      "wait_interval": 0
     },
     "base_uri": "https://localhost:8080/",
     "height": 793
    },
    "colab_type": "code",
    "executionInfo": {
     "elapsed": 1065,
     "status": "ok",
     "timestamp": 1528313351187,
     "user": {
      "displayName": "Sage Lichtenwalner",
      "photoUrl": "https://lh3.googleusercontent.com/a/default-user=s128",
      "userId": "107661401208389246829"
     },
     "user_tz": 240
    },
    "id": "OImm-R20v2DH",
    "outputId": "ac0d0c5a-f124-47da-9b0f-a4fe809aadc7",
    "slideshow": {
     "slide_type": "slide"
    }
   },
   "outputs": [
    {
     "data": {
      "text/html": [
       "<div>\n",
       "<style scoped>\n",
       "    .dataframe tbody tr th:only-of-type {\n",
       "        vertical-align: middle;\n",
       "    }\n",
       "\n",
       "    .dataframe tbody tr th {\n",
       "        vertical-align: top;\n",
       "    }\n",
       "\n",
       "    .dataframe thead th {\n",
       "        text-align: right;\n",
       "    }\n",
       "</style>\n",
       "<table border=\"1\" class=\"dataframe\">\n",
       "  <thead>\n",
       "    <tr style=\"text-align: right;\">\n",
       "      <th></th>\n",
       "      <th>assetUid</th>\n",
       "      <th>name</th>\n",
       "      <th>start</th>\n",
       "      <th>stop</th>\n",
       "      <th>value</th>\n",
       "    </tr>\n",
       "  </thead>\n",
       "  <tbody>\n",
       "    <tr>\n",
       "      <th>0</th>\n",
       "      <td>CGINS-CTDMOG-11638</td>\n",
       "      <td>CC_a0</td>\n",
       "      <td>2016-07-04</td>\n",
       "      <td>None</td>\n",
       "      <td>-1.041285e-04</td>\n",
       "    </tr>\n",
       "    <tr>\n",
       "      <th>9</th>\n",
       "      <td>CGINS-CTDMOG-11638</td>\n",
       "      <td>CC_a1</td>\n",
       "      <td>2016-07-04</td>\n",
       "      <td>None</td>\n",
       "      <td>3.070477e-04</td>\n",
       "    </tr>\n",
       "    <tr>\n",
       "      <th>7</th>\n",
       "      <td>CGINS-CTDMOG-11638</td>\n",
       "      <td>CC_a2</td>\n",
       "      <td>2016-07-04</td>\n",
       "      <td>None</td>\n",
       "      <td>-4.541412e-06</td>\n",
       "    </tr>\n",
       "    <tr>\n",
       "      <th>6</th>\n",
       "      <td>CGINS-CTDMOG-11638</td>\n",
       "      <td>CC_a3</td>\n",
       "      <td>2016-07-04</td>\n",
       "      <td>None</td>\n",
       "      <td>2.028125e-07</td>\n",
       "    </tr>\n",
       "    <tr>\n",
       "      <th>13</th>\n",
       "      <td>CGINS-CTDMOG-11638</td>\n",
       "      <td>CC_cpcor</td>\n",
       "      <td>2016-07-04</td>\n",
       "      <td>None</td>\n",
       "      <td>-9.570000e-08</td>\n",
       "    </tr>\n",
       "    <tr>\n",
       "      <th>19</th>\n",
       "      <td>CGINS-CTDMOG-11638</td>\n",
       "      <td>CC_ctcor</td>\n",
       "      <td>2016-07-04</td>\n",
       "      <td>None</td>\n",
       "      <td>3.250000e-06</td>\n",
       "    </tr>\n",
       "    <tr>\n",
       "      <th>2</th>\n",
       "      <td>CGINS-CTDMOG-11638</td>\n",
       "      <td>CC_g</td>\n",
       "      <td>2016-07-04</td>\n",
       "      <td>None</td>\n",
       "      <td>-9.797545e-01</td>\n",
       "    </tr>\n",
       "    <tr>\n",
       "      <th>4</th>\n",
       "      <td>CGINS-CTDMOG-11638</td>\n",
       "      <td>CC_h</td>\n",
       "      <td>2016-07-04</td>\n",
       "      <td>None</td>\n",
       "      <td>1.699942e-01</td>\n",
       "    </tr>\n",
       "    <tr>\n",
       "      <th>5</th>\n",
       "      <td>CGINS-CTDMOG-11638</td>\n",
       "      <td>CC_i</td>\n",
       "      <td>2016-07-04</td>\n",
       "      <td>None</td>\n",
       "      <td>-4.481542e-04</td>\n",
       "    </tr>\n",
       "    <tr>\n",
       "      <th>18</th>\n",
       "      <td>CGINS-CTDMOG-11638</td>\n",
       "      <td>CC_j</td>\n",
       "      <td>2016-07-04</td>\n",
       "      <td>None</td>\n",
       "      <td>6.360808e-05</td>\n",
       "    </tr>\n",
       "    <tr>\n",
       "      <th>17</th>\n",
       "      <td>CGINS-CTDMOG-11638</td>\n",
       "      <td>CC_p_range</td>\n",
       "      <td>2016-07-04</td>\n",
       "      <td>None</td>\n",
       "      <td>1.450000e+03</td>\n",
       "    </tr>\n",
       "    <tr>\n",
       "      <th>14</th>\n",
       "      <td>CGINS-CTDMOG-11638</td>\n",
       "      <td>CC_pa0</td>\n",
       "      <td>2016-07-04</td>\n",
       "      <td>None</td>\n",
       "      <td>4.652784e-02</td>\n",
       "    </tr>\n",
       "    <tr>\n",
       "      <th>15</th>\n",
       "      <td>CGINS-CTDMOG-11638</td>\n",
       "      <td>CC_pa1</td>\n",
       "      <td>2016-07-04</td>\n",
       "      <td>None</td>\n",
       "      <td>4.448754e-03</td>\n",
       "    </tr>\n",
       "    <tr>\n",
       "      <th>16</th>\n",
       "      <td>CGINS-CTDMOG-11638</td>\n",
       "      <td>CC_pa2</td>\n",
       "      <td>2016-07-04</td>\n",
       "      <td>None</td>\n",
       "      <td>-1.061555e-11</td>\n",
       "    </tr>\n",
       "    <tr>\n",
       "      <th>21</th>\n",
       "      <td>CGINS-CTDMOG-11638</td>\n",
       "      <td>CC_ptca0</td>\n",
       "      <td>2016-07-04</td>\n",
       "      <td>None</td>\n",
       "      <td>5.245439e+05</td>\n",
       "    </tr>\n",
       "    <tr>\n",
       "      <th>20</th>\n",
       "      <td>CGINS-CTDMOG-11638</td>\n",
       "      <td>CC_ptca1</td>\n",
       "      <td>2016-07-04</td>\n",
       "      <td>None</td>\n",
       "      <td>-1.082292e+00</td>\n",
       "    </tr>\n",
       "    <tr>\n",
       "      <th>23</th>\n",
       "      <td>CGINS-CTDMOG-11638</td>\n",
       "      <td>CC_ptca2</td>\n",
       "      <td>2016-07-04</td>\n",
       "      <td>None</td>\n",
       "      <td>4.952659e-02</td>\n",
       "    </tr>\n",
       "    <tr>\n",
       "      <th>8</th>\n",
       "      <td>CGINS-CTDMOG-11638</td>\n",
       "      <td>CC_ptcb0</td>\n",
       "      <td>2016-07-04</td>\n",
       "      <td>None</td>\n",
       "      <td>2.530163e+01</td>\n",
       "    </tr>\n",
       "    <tr>\n",
       "      <th>1</th>\n",
       "      <td>CGINS-CTDMOG-11638</td>\n",
       "      <td>CC_ptcb1</td>\n",
       "      <td>2016-07-04</td>\n",
       "      <td>None</td>\n",
       "      <td>-1.275000e-03</td>\n",
       "    </tr>\n",
       "    <tr>\n",
       "      <th>3</th>\n",
       "      <td>CGINS-CTDMOG-11638</td>\n",
       "      <td>CC_ptcb2</td>\n",
       "      <td>2016-07-04</td>\n",
       "      <td>None</td>\n",
       "      <td>0.000000e+00</td>\n",
       "    </tr>\n",
       "    <tr>\n",
       "      <th>12</th>\n",
       "      <td>CGINS-CTDMOG-11638</td>\n",
       "      <td>CC_ptempa0</td>\n",
       "      <td>2016-07-04</td>\n",
       "      <td>None</td>\n",
       "      <td>-6.899079e+01</td>\n",
       "    </tr>\n",
       "    <tr>\n",
       "      <th>11</th>\n",
       "      <td>CGINS-CTDMOG-11638</td>\n",
       "      <td>CC_ptempa1</td>\n",
       "      <td>2016-07-04</td>\n",
       "      <td>None</td>\n",
       "      <td>5.231744e-02</td>\n",
       "    </tr>\n",
       "    <tr>\n",
       "      <th>10</th>\n",
       "      <td>CGINS-CTDMOG-11638</td>\n",
       "      <td>CC_ptempa2</td>\n",
       "      <td>2016-07-04</td>\n",
       "      <td>None</td>\n",
       "      <td>-7.288322e-07</td>\n",
       "    </tr>\n",
       "    <tr>\n",
       "      <th>22</th>\n",
       "      <td>CGINS-CTDMOG-11638</td>\n",
       "      <td>CC_wbotc</td>\n",
       "      <td>2016-07-04</td>\n",
       "      <td>None</td>\n",
       "      <td>-1.731956e-07</td>\n",
       "    </tr>\n",
       "  </tbody>\n",
       "</table>\n",
       "</div>"
      ],
      "text/plain": [
       "              assetUid        name      start  stop         value\n",
       "0   CGINS-CTDMOG-11638       CC_a0 2016-07-04  None -1.041285e-04\n",
       "9   CGINS-CTDMOG-11638       CC_a1 2016-07-04  None  3.070477e-04\n",
       "7   CGINS-CTDMOG-11638       CC_a2 2016-07-04  None -4.541412e-06\n",
       "6   CGINS-CTDMOG-11638       CC_a3 2016-07-04  None  2.028125e-07\n",
       "13  CGINS-CTDMOG-11638    CC_cpcor 2016-07-04  None -9.570000e-08\n",
       "19  CGINS-CTDMOG-11638    CC_ctcor 2016-07-04  None  3.250000e-06\n",
       "2   CGINS-CTDMOG-11638        CC_g 2016-07-04  None -9.797545e-01\n",
       "4   CGINS-CTDMOG-11638        CC_h 2016-07-04  None  1.699942e-01\n",
       "5   CGINS-CTDMOG-11638        CC_i 2016-07-04  None -4.481542e-04\n",
       "18  CGINS-CTDMOG-11638        CC_j 2016-07-04  None  6.360808e-05\n",
       "17  CGINS-CTDMOG-11638  CC_p_range 2016-07-04  None  1.450000e+03\n",
       "14  CGINS-CTDMOG-11638      CC_pa0 2016-07-04  None  4.652784e-02\n",
       "15  CGINS-CTDMOG-11638      CC_pa1 2016-07-04  None  4.448754e-03\n",
       "16  CGINS-CTDMOG-11638      CC_pa2 2016-07-04  None -1.061555e-11\n",
       "21  CGINS-CTDMOG-11638    CC_ptca0 2016-07-04  None  5.245439e+05\n",
       "20  CGINS-CTDMOG-11638    CC_ptca1 2016-07-04  None -1.082292e+00\n",
       "23  CGINS-CTDMOG-11638    CC_ptca2 2016-07-04  None  4.952659e-02\n",
       "8   CGINS-CTDMOG-11638    CC_ptcb0 2016-07-04  None  2.530163e+01\n",
       "1   CGINS-CTDMOG-11638    CC_ptcb1 2016-07-04  None -1.275000e-03\n",
       "3   CGINS-CTDMOG-11638    CC_ptcb2 2016-07-04  None  0.000000e+00\n",
       "12  CGINS-CTDMOG-11638  CC_ptempa0 2016-07-04  None -6.899079e+01\n",
       "11  CGINS-CTDMOG-11638  CC_ptempa1 2016-07-04  None  5.231744e-02\n",
       "10  CGINS-CTDMOG-11638  CC_ptempa2 2016-07-04  None -7.288322e-07\n",
       "22  CGINS-CTDMOG-11638    CC_wbotc 2016-07-04  None -1.731956e-07"
      ]
     },
     "execution_count": 44,
     "metadata": {},
     "output_type": "execute_result"
    }
   ],
   "source": [
    "# Setup the API request url\n",
    "request_url = 'https://ooinet.oceanobservatories.org/api/m2m/12587/asset/cal'\n",
    "\n",
    "params = {\n",
    "  'beginDT':'2016-10-01T00:00:00.000Z',\n",
    "  'endDT':'2016-11-01T00:00:00.000Z',\n",
    "  'refdes':'GP03FLMB-RIM01-02-CTDMOG060'\n",
    "}\n",
    "\n",
    "# Grab the information from the server\n",
    "r = requests.get(request_url, params=params, auth=(USERNAME, TOKEN))\n",
    "data = r.json()\n",
    "\n",
    "# Reformat the data into a pretty table\n",
    "df = pd.DataFrame() # Setup empty array\n",
    "for d in data[0]['sensor']['calibration']:\n",
    "  for dd in d['calData']:\n",
    "    df = df.append({\n",
    "      'value': dd['value'],\n",
    "      'start': convert_time(dd['eventStartTime']),\n",
    "      'stop': convert_time(dd['eventStopTime']),\n",
    "      'name': dd['eventName'],\n",
    "      'assetUid': dd['assetUid'],\n",
    "      }, ignore_index=True)\n",
    "    \n",
    "df = df.sort_values(by=['start','name'])\n",
    "df"
   ]
  },
  {
   "cell_type": "markdown",
   "metadata": {
    "colab_type": "text",
    "id": "geDHfmsgaNUe",
    "slideshow": {
     "slide_type": "slide"
    }
   },
   "source": [
    "# Instrument Vocabulary\n",
    "We can use the Vocabulary API endpoint to convert a given reference designator for an instrument into its descriptive names."
   ]
  },
  {
   "cell_type": "code",
   "execution_count": 45,
   "metadata": {
    "colab": {
     "autoexec": {
      "startup": false,
      "wait_interval": 0
     },
     "base_uri": "https://localhost:8080/",
     "height": 215
    },
    "colab_type": "code",
    "executionInfo": {
     "elapsed": 399,
     "status": "ok",
     "timestamp": 1528313352156,
     "user": {
      "displayName": "Sage Lichtenwalner",
      "photoUrl": "https://lh3.googleusercontent.com/a/default-user=s128",
      "userId": "107661401208389246829"
     },
     "user_tz": 240
    },
    "id": "83f7J3TIZW8T",
    "outputId": "46f06a0e-3079-4458-9d05-a58d4673cfef",
    "slideshow": {
     "slide_type": "slide"
    }
   },
   "outputs": [
    {
     "data": {
      "text/plain": [
       "[{'@class': '.VocabRecord',\n",
       "  'model': 'SBE 37IM',\n",
       "  'manufacturer': 'Sea-Bird',\n",
       "  'vocabId': 1098,\n",
       "  'refdes': 'GP03FLMB-RIM01-02-CTDMOG060',\n",
       "  'instrument': 'CTD (30 meters)',\n",
       "  'tocL1': 'Global Station Papa',\n",
       "  'tocL2': 'Flanking Subsurface Mooring B',\n",
       "  'tocL3': 'Mooring Riser',\n",
       "  'mindepth': 30.0,\n",
       "  'maxdepth': 30.0}]"
      ]
     },
     "execution_count": 45,
     "metadata": {},
     "output_type": "execute_result"
    }
   ],
   "source": [
    "# Retrieve vocabulary information for a given instrument\n",
    "VOCAB_BASE_URL = 'https://ooinet.oceanobservatories.org/api/m2m/12586/vocab/inv'\n",
    "request_url = VOCAB_BASE_URL+'/GP03FLMB/RIM01/02-CTDMOG060'\n",
    "r = requests.get(request_url, auth=(USERNAME, TOKEN))\n",
    "data = r.json()\n",
    "\n",
    "data"
   ]
  },
  {
   "cell_type": "markdown",
   "metadata": {
    "colab_type": "text",
    "id": "0k7pBvajaQXm",
    "slideshow": {
     "slide_type": "slide"
    }
   },
   "source": [
    "# Annotations\n",
    "Finally, let's grab all of the annotations for this instrument.  The annotations endpoint requires all of the options to be specified in the params array."
   ]
  },
  {
   "cell_type": "code",
   "execution_count": 46,
   "metadata": {
    "colab": {
     "autoexec": {
      "startup": false,
      "wait_interval": 0
     }
    },
    "colab_type": "code",
    "id": "ttZLww6GEErD",
    "slideshow": {
     "slide_type": "slide"
    }
   },
   "outputs": [],
   "source": [
    "pd.set_option('display.max_colwidth', 30) # Show the full annotation text"
   ]
  },
  {
   "cell_type": "code",
   "execution_count": 47,
   "metadata": {
    "colab": {
     "autoexec": {
      "startup": false,
      "wait_interval": 0
     },
     "base_uri": "https://localhost:8080/",
     "height": 439
    },
    "colab_type": "code",
    "executionInfo": {
     "elapsed": 436,
     "status": "ok",
     "timestamp": 1528313353888,
     "user": {
      "displayName": "Sage Lichtenwalner",
      "photoUrl": "https://lh3.googleusercontent.com/a/default-user=s128",
      "userId": "107661401208389246829"
     },
     "user_tz": 240
    },
    "id": "FiXtX6EZ-jUF",
    "outputId": "3e0b71dd-3c25-4dd4-977d-7605b03e25e9",
    "slideshow": {
     "slide_type": "slide"
    }
   },
   "outputs": [
    {
     "data": {
      "text/html": [
       "<div>\n",
       "<style scoped>\n",
       "    .dataframe tbody tr th:only-of-type {\n",
       "        vertical-align: middle;\n",
       "    }\n",
       "\n",
       "    .dataframe tbody tr th {\n",
       "        vertical-align: top;\n",
       "    }\n",
       "\n",
       "    .dataframe thead th {\n",
       "        text-align: right;\n",
       "    }\n",
       "</style>\n",
       "<table border=\"1\" class=\"dataframe\">\n",
       "  <thead>\n",
       "    <tr style=\"text-align: right;\">\n",
       "      <th></th>\n",
       "      <th>annotation</th>\n",
       "      <th>id</th>\n",
       "      <th>node</th>\n",
       "      <th>sensor</th>\n",
       "      <th>site</th>\n",
       "      <th>start</th>\n",
       "      <th>stop</th>\n",
       "    </tr>\n",
       "  </thead>\n",
       "  <tbody>\n",
       "    <tr>\n",
       "      <th>1</th>\n",
       "      <td>Deployment 1: Mooring was deployed 5-10m shallower than planned.</td>\n",
       "      <td>154.0</td>\n",
       "      <td>None</td>\n",
       "      <td>None</td>\n",
       "      <td>GP03FLMB</td>\n",
       "      <td>2013-07-24 06:32:00</td>\n",
       "      <td>2014-06-18 00:00:00</td>\n",
       "    </tr>\n",
       "    <tr>\n",
       "      <th>4</th>\n",
       "      <td>Deployment 2: Mooring was deployed 10-15m shallower than planned. Upon recovery of platform, biofouling was apparent on shallow CTDs.</td>\n",
       "      <td>155.0</td>\n",
       "      <td>None</td>\n",
       "      <td>None</td>\n",
       "      <td>GP03FLMB</td>\n",
       "      <td>2014-06-20 02:00:00</td>\n",
       "      <td>2015-06-07 00:00:00</td>\n",
       "    </tr>\n",
       "    <tr>\n",
       "      <th>5</th>\n",
       "      <td>Deployment 2: Recovered data are not available for this deployment.</td>\n",
       "      <td>584.0</td>\n",
       "      <td>RIM01</td>\n",
       "      <td>02-CTDMOG060</td>\n",
       "      <td>GP03FLMB</td>\n",
       "      <td>2014-06-20 02:00:00</td>\n",
       "      <td>2015-06-07 00:00:00</td>\n",
       "    </tr>\n",
       "    <tr>\n",
       "      <th>2</th>\n",
       "      <td>Deployment 3: Mooring was deployed 10m deeper than planned.</td>\n",
       "      <td>156.0</td>\n",
       "      <td>None</td>\n",
       "      <td>None</td>\n",
       "      <td>GP03FLMB</td>\n",
       "      <td>2015-06-08 21:25:00</td>\n",
       "      <td>2016-07-03 18:35:00</td>\n",
       "    </tr>\n",
       "    <tr>\n",
       "      <th>3</th>\n",
       "      <td>Deployment 4: Mooring was deployed 10m deeper than planned.</td>\n",
       "      <td>157.0</td>\n",
       "      <td>None</td>\n",
       "      <td>None</td>\n",
       "      <td>GP03FLMB</td>\n",
       "      <td>2016-07-04 23:07:00</td>\n",
       "      <td>2017-07-17 15:02:00</td>\n",
       "    </tr>\n",
       "    <tr>\n",
       "      <th>0</th>\n",
       "      <td>Deployment 5: No data will be available via satellite telemetry. Data will be available when the mooring is recovered.</td>\n",
       "      <td>142.0</td>\n",
       "      <td>None</td>\n",
       "      <td>None</td>\n",
       "      <td>GP03FLMB</td>\n",
       "      <td>2017-07-14 22:49:00</td>\n",
       "      <td>None</td>\n",
       "    </tr>\n",
       "  </tbody>\n",
       "</table>\n",
       "</div>"
      ],
      "text/plain": [
       "                                                                                                                              annotation  \\\n",
       "1  Deployment 1: Mooring was deployed 5-10m shallower than planned.                                                                        \n",
       "4  Deployment 2: Mooring was deployed 10-15m shallower than planned. Upon recovery of platform, biofouling was apparent on shallow CTDs.   \n",
       "5  Deployment 2: Recovered data are not available for this deployment.                                                                     \n",
       "2  Deployment 3: Mooring was deployed 10m deeper than planned.                                                                             \n",
       "3  Deployment 4: Mooring was deployed 10m deeper than planned.                                                                             \n",
       "0  Deployment 5: No data will be available via satellite telemetry. Data will be available when the mooring is recovered.                  \n",
       "\n",
       "      id   node        sensor      site               start  \\\n",
       "1  154.0  None   None          GP03FLMB 2013-07-24 06:32:00   \n",
       "4  155.0  None   None          GP03FLMB 2014-06-20 02:00:00   \n",
       "5  584.0  RIM01  02-CTDMOG060  GP03FLMB 2014-06-20 02:00:00   \n",
       "2  156.0  None   None          GP03FLMB 2015-06-08 21:25:00   \n",
       "3  157.0  None   None          GP03FLMB 2016-07-04 23:07:00   \n",
       "0  142.0  None   None          GP03FLMB 2017-07-14 22:49:00   \n",
       "\n",
       "                  stop  \n",
       "1  2014-06-18 00:00:00  \n",
       "4  2015-06-07 00:00:00  \n",
       "5  2015-06-07 00:00:00  \n",
       "2  2016-07-03 18:35:00  \n",
       "3  2017-07-17 15:02:00  \n",
       "0  None                 "
      ]
     },
     "execution_count": 47,
     "metadata": {},
     "output_type": "execute_result"
    }
   ],
   "source": [
    "ANNO_API = 'https://ooinet.oceanobservatories.org/api/m2m/12580/anno/find'\n",
    "params = {\n",
    "  'beginDT': int(datetime.date(2010,1,1).strftime('%s'))*1000,\n",
    "  'endDT': int(datetime.date(2018,1,1).strftime('%s'))*1000,\n",
    "  'refdes': 'GP03FLMB-RIM01-02-CTDMOG060',\n",
    "#   'method': 'telemetered',\n",
    "#   'stream': 'ctdmo_ghqr_sio_mule_instrument',\n",
    "}\n",
    "\n",
    "r = requests.get(ANNO_API, params=params, auth=(USERNAME, TOKEN))\n",
    "data = r.json()\n",
    "\n",
    "df = pd.DataFrame() # Setup empty array\n",
    "for d in data:\n",
    "  df = df.append({\n",
    "    'annotation': d['annotation'],\n",
    "    'start': convert_time(d['beginDT']),\n",
    "    'stop': convert_time(d['endDT']),\n",
    "    'site': d['subsite'],\n",
    "    'node': d['node'],\n",
    "    'sensor': d['sensor'],\n",
    "    'id': d['id']\n",
    "  }, ignore_index=True)\n",
    "\n",
    "pd.set_option('display.max_colwidth', -1) # Show the full annotation text\n",
    "df = df.sort_values(by=['start'])\n",
    "df"
   ]
  },
  {
   "cell_type": "markdown",
   "metadata": {
    "colab_type": "text",
    "id": "qxtW1y_oCHq0",
    "slideshow": {
     "slide_type": "slide"
    }
   },
   "source": [
    "# Resources\n",
    "For more information on using the API, you can check out:\n",
    "\n",
    "* [OOI Machine 2 Machine Introduction](http://oceanobservatories.org/ooi-m2m-interface/)\n",
    "* [OOI Machine to Machine (M2M) Basics](https://github.com/ooi-data-review/m2m_demo/blob/master/notebooks/basic_examples.ipynb)\n",
    "* [Accessing data as JSON via OOI RESTful API](https://github.com/ooi-data-review/m2m_demo/blob/master/notebooks/json_data_request.ipynb)\n",
    "* [Accessing data as NetCDF via OOI RESTful API](https://github.com/ooi-data-review/m2m_demo/blob/master/notebooks/netcdf_data_request.ipynb)\n",
    "* [OOI Machine to Machine (M2M) Realtime Requests](https://github.com/ooi-data-review/m2m_demo/blob/master/notebooks/realtime_requests.ipynb)\n"
   ]
  }
 ],
 "metadata": {
  "colab": {
   "default_view": {},
   "name": "Using the OOI API with Python.ipynb",
   "provenance": [],
   "toc_visible": true,
   "version": "0.3.2",
   "views": {}
  },
  "kernelspec": {
   "display_name": "Python 3",
   "language": "python",
   "name": "python3"
  },
  "language_info": {
   "codemirror_mode": {
    "name": "ipython",
    "version": 3
   },
   "file_extension": ".py",
   "mimetype": "text/x-python",
   "name": "python",
   "nbconvert_exporter": "python",
   "pygments_lexer": "ipython3",
   "version": "3.6.4"
  }
 },
 "nbformat": 4,
 "nbformat_minor": 2
}
